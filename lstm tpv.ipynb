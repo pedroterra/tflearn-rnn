{
 "cells": [
  {
   "cell_type": "markdown",
   "metadata": {},
   "source": [
    "run with tensorlab env"
   ]
  },
  {
   "cell_type": "code",
   "execution_count": 1,
   "metadata": {
    "collapsed": true
   },
   "outputs": [],
   "source": [
    "import numpy as np\n",
    "import tensorflow as tf\n",
    "import tflearn\n",
    "import matplotlib.pyplot as plt\n",
    "from tflearn.data_utils import shuffle\n",
    "from numpy import genfromtxt\n",
    "%matplotlib inline"
   ]
  },
  {
   "cell_type": "code",
   "execution_count": 2,
   "metadata": {
    "collapsed": true
   },
   "outputs": [],
   "source": [
    "merchants_tpvs = genfromtxt('merchants_tpvs3.csv', delimiter=',')"
   ]
  },
  {
   "cell_type": "code",
   "execution_count": 3,
   "metadata": {
    "scrolled": true
   },
   "outputs": [],
   "source": [
    "shuf = merchants_tpvs\n",
    "np.random.shuffle(shuf)"
   ]
  },
  {
   "cell_type": "code",
   "execution_count": 4,
   "metadata": {},
   "outputs": [],
   "source": [
    "data_in_60_x = np.array(shuf[0][0:60])\n",
    "data_in_60_y = np.array(shuf[0][60])\n",
    "for i in shuf:\n",
    "    for j in range(len(i) - 60):\n",
    "        data_in_60_x = np.append( data_in_60_x, i[j: j+60])\n",
    "        data_in_60_y = np.append(data_in_60_y, i[j+60])\n",
    "        \n",
    "# len(data_in_60)"
   ]
  },
  {
   "cell_type": "code",
   "execution_count": 5,
   "metadata": {},
   "outputs": [
    {
     "data": {
      "text/plain": [
       "18501"
      ]
     },
     "execution_count": 5,
     "metadata": {},
     "output_type": "execute_result"
    }
   ],
   "source": [
    "data_in_60_x = np.reshape(data_in_60_x, (18501, 60))\n",
    "len(data_in_60_x)"
   ]
  },
  {
   "cell_type": "code",
   "execution_count": 6,
   "metadata": {},
   "outputs": [],
   "source": [
    "test_fraction = 0.9\n",
    "records = len(data_in_60_x)\n",
    "\n",
    "train_X, test_X = data_in_60_x[:int(records*test_fraction)], data_in_60_x[int(records*test_fraction):]"
   ]
  },
  {
   "cell_type": "code",
   "execution_count": 7,
   "metadata": {
    "collapsed": true
   },
   "outputs": [],
   "source": [
    "train_Y, test_Y = data_in_60_y[:int(records*test_fraction)], data_in_60_y[int(records*test_fraction):]"
   ]
  },
  {
   "cell_type": "code",
   "execution_count": 8,
   "metadata": {
    "collapsed": true
   },
   "outputs": [],
   "source": [
    "# train_Y = np.array(train_X[0][244])\n",
    "# for i in train_X[1:]:\n",
    "#     train_Y = np.append( train_Y, i[244])\n",
    "# #train_Y"
   ]
  },
  {
   "cell_type": "code",
   "execution_count": 9,
   "metadata": {
    "collapsed": true
   },
   "outputs": [],
   "source": [
    "# test_Y = np.array(test_X[0][244])\n",
    "# for i in test_X[1:]:\n",
    "#     test_Y = np.append( test_Y, i[244])"
   ]
  },
  {
   "cell_type": "code",
   "execution_count": 10,
   "metadata": {
    "collapsed": true
   },
   "outputs": [],
   "source": [
    "# new_train_X = np.array(train_X[0][:-1])\n",
    "# for i in train_X[1:]:\n",
    "#     new_train_X = np.append( new_train_X, i[:-1])\n"
   ]
  },
  {
   "cell_type": "code",
   "execution_count": 11,
   "metadata": {
    "collapsed": true
   },
   "outputs": [],
   "source": [
    "# new_test_X = np.array(test_X[0][:-1])\n",
    "# for i in test_X[1:]:\n",
    "#     new_test_X = np.append( new_test_X, i[:-1])"
   ]
  },
  {
   "cell_type": "code",
   "execution_count": 12,
   "metadata": {},
   "outputs": [],
   "source": [
    "# new_test_X[0]"
   ]
  },
  {
   "cell_type": "code",
   "execution_count": 13,
   "metadata": {
    "scrolled": true
   },
   "outputs": [
    {
     "data": {
      "text/plain": [
       "(1851,)"
      ]
     },
     "execution_count": 13,
     "metadata": {},
     "output_type": "execute_result"
    }
   ],
   "source": [
    "np.shape(test_Y)"
   ]
  },
  {
   "cell_type": "code",
   "execution_count": 14,
   "metadata": {
    "collapsed": true
   },
   "outputs": [],
   "source": [
    "# train_X = np.reshape(train_X, (16650, 60,1))\n",
    "\n",
    "# train_Y = np.reshape(train_Y, (16650,1))\n",
    "\n",
    "# test_X = np.reshape(test_X, (1851, 60,1))\n",
    "# test_Y = np.reshape(test_Y, (1851,1))"
   ]
  },
  {
   "cell_type": "code",
   "execution_count": 20,
   "metadata": {
    "collapsed": true
   },
   "outputs": [],
   "source": [
    "train_X = np.reshape(train_X, (16650, 60,1))/1000\n",
    "\n",
    "train_Y = np.reshape(train_Y, (16650,1))/1000\n",
    "\n",
    "test_X = np.reshape(test_X, (1851, 60,1))/1000\n",
    "test_Y = np.reshape(test_Y, (1851,1))/1000"
   ]
  },
  {
   "cell_type": "code",
   "execution_count": 21,
   "metadata": {
    "collapsed": true
   },
   "outputs": [],
   "source": [
    "# new_train_X = np.reshape(new_train_X, (90, 244,1))/1000\n",
    "# train_Y = np.reshape(train_Y, (90,1))/1000\n",
    "# new_test_X = np.reshape(new_test_X, (10, 244,1))/1000\n",
    "# test_Y = np.reshape(test_Y, (10,1))/1000"
   ]
  },
  {
   "cell_type": "code",
   "execution_count": 28,
   "metadata": {
    "collapsed": true
   },
   "outputs": [],
   "source": [
    "# Define the neural network\n",
    "def build_model():\n",
    "    # This resets all parameters and variables, leave this here\n",
    "    tf.reset_default_graph()\n",
    "\n",
    "    # input layer\n",
    "    net = tflearn.input_data(shape=[None, 60,1])\n",
    "    #net = tflearn.layers.normalization.batch_normalization (net, beta=0.0, gamma=1.0, epsilon=1e-05, decay=0.9, stddev=0.002, trainable=True, restore=True, reuse=False, scope=None, name='BatchNormalization')\n",
    "    #net = tflearn.embedding(net, input_dim=1, output_dim=60)\n",
    "    # net = tflearn.lstm(net, n_units=30, return_seq=True)\n",
    "    net = tflearn.lstm(net, n_units=128, return_seq=False)\n",
    "    net = tflearn.fully_connected(net, 254, activation='linear')\n",
    "    net = tflearn.fully_connected(net, 64, activation='linear')\n",
    "    net  = tflearn.layers.core.dropout (net, 0.5, noise_shape=None, name='Dropout')\n",
    "    # net = tflearn.fully_connected(net, 32, activation='linear')\n",
    "    net = tflearn.fully_connected(net, 1, activation='linear')\n",
    "    \n",
    "    #Output Layer\n",
    "    adam = tflearn.optimizers.Adam(learning_rate=0.00001, beta1=0.99)\n",
    "    net = tflearn.regression(net, optimizer= adam, loss='mean_square')\n",
    "    \n",
    "    # This model assumes that your network is named \"net\"  \n",
    "    #model = tflearn.DNN(net, clip_gradients=0.0, tensorboard_verbose=0)\n",
    "    model = tflearn.DNN(net, clip_gradients=5.0)\n",
    "    #model = tflearn.DNN(net)\n",
    "    return model"
   ]
  },
  {
   "cell_type": "code",
   "execution_count": 29,
   "metadata": {
    "collapsed": true
   },
   "outputs": [],
   "source": [
    "model = build_model()\n"
   ]
  },
  {
   "cell_type": "code",
   "execution_count": 30,
   "metadata": {},
   "outputs": [
    {
     "name": "stdout",
     "output_type": "stream",
     "text": [
      "Training Step: 14989  | total loss: \u001b[1m\u001b[32m2242.91846\u001b[0m\u001b[0m | time: 113.978s\n",
      "| Adam | epoch: 010 | loss: 2242.91846 - binary_acc: 0.0076 -- iter: 14980/14985\n",
      "Training Step: 14990  | total loss: \u001b[1m\u001b[32m2035.21472\u001b[0m\u001b[0m | time: 116.373s\n",
      "| Adam | epoch: 010 | loss: 2035.21472 - binary_acc: 0.0169 | val_loss: 1647.90003 - val_acc: 0.0180 -- iter: 14985/14985\n",
      "--\n"
     ]
    }
   ],
   "source": [
    "# Training\n",
    "model.fit(train_X, train_Y, n_epoch=10, validation_set=0.1, show_metric=True, batch_size=10, shuffle=True)\n",
    "#model.fit(train_features, train_next_point, n_epoch=1, validation_set=0.1, show_metric=True, batch_size=1)"
   ]
  },
  {
   "cell_type": "code",
   "execution_count": 25,
   "metadata": {},
   "outputs": [
    {
     "name": "stdout",
     "output_type": "stream",
     "text": [
      "Test accuracy:  [ 25.95959738]\n"
     ]
    }
   ],
   "source": [
    "# Compare the labels that our model predicts with the actual labels\n",
    "\n",
    "# Find the indices of the most confident prediction for each item. That tells us the predicted digit for that sample.\n",
    "predictions = np.array(model.predict(test_X))\n",
    "\n",
    "# Calculate the accuracy, which is the percentage of times the predicated labels matched the actual labels\n",
    "actual = test_Y\n",
    "test_accuracy = np.mean(np.abs(predictions - actual), axis=0)\n",
    "\n",
    "# Print out the result\n",
    "print(\"Test accuracy: \", test_accuracy)"
   ]
  },
  {
   "cell_type": "code",
   "execution_count": 26,
   "metadata": {},
   "outputs": [
    {
     "data": {
      "text/plain": [
       "array([[ 62.55971909],\n",
       "       [ 34.64829636],\n",
       "       [ 31.80964279],\n",
       "       [ 31.59939384],\n",
       "       [ 36.70702362],\n",
       "       [ 34.09413147],\n",
       "       [ 31.46787071],\n",
       "       [ 33.6192131 ],\n",
       "       [ 34.05064392],\n",
       "       [ 33.15245819],\n",
       "       [ 32.44073868],\n",
       "       [ 35.59375381],\n",
       "       [ 36.73429489],\n",
       "       [ 33.29591751],\n",
       "       [ 32.68295288],\n",
       "       [ 30.40307617],\n",
       "       [ 29.95929146],\n",
       "       [ 29.07912064],\n",
       "       [ 26.88911629],\n",
       "       [ 28.04605293],\n",
       "       [ 25.35542107],\n",
       "       [ 25.67716026],\n",
       "       [ 25.07242012],\n",
       "       [ 23.2420826 ],\n",
       "       [ 24.14607811],\n",
       "       [ 22.26185417],\n",
       "       [ 25.94545555],\n",
       "       [ 23.55274773],\n",
       "       [ 40.47037125],\n",
       "       [ 35.09722519],\n",
       "       [ 37.30059433],\n",
       "       [ 39.66332626],\n",
       "       [ 37.22734451],\n",
       "       [ 46.90947342],\n",
       "       [ 41.09922409],\n",
       "       [ 44.43722153],\n",
       "       [ 42.32503128],\n",
       "       [ 51.37192154],\n",
       "       [ 46.40752029],\n",
       "       [ 43.390625  ],\n",
       "       [ 46.36268616],\n",
       "       [ 41.47251892],\n",
       "       [ 42.55068207],\n",
       "       [ 41.22214127],\n",
       "       [ 37.52192688],\n",
       "       [ 56.59976196],\n",
       "       [ 68.48088837],\n",
       "       [ 58.65181732],\n",
       "       [ 53.25623322],\n",
       "       [ 49.94007111]], dtype=float32)"
      ]
     },
     "execution_count": 26,
     "metadata": {},
     "output_type": "execute_result"
    }
   ],
   "source": [
    "predictions[:50]"
   ]
  },
  {
   "cell_type": "code",
   "execution_count": 27,
   "metadata": {},
   "outputs": [
    {
     "data": {
      "text/plain": [
       "array([[ 362.417],\n",
       "       [   1.3  ],\n",
       "       [  27.35 ],\n",
       "       [ 112.25 ],\n",
       "       [  18.9  ],\n",
       "       [   0.   ],\n",
       "       [  60.701],\n",
       "       [  49.376],\n",
       "       [  29.05 ],\n",
       "       [  27.   ],\n",
       "       [  82.575],\n",
       "       [  64.8  ],\n",
       "       [   0.   ],\n",
       "       [  23.74 ],\n",
       "       [   4.45 ],\n",
       "       [  25.1  ],\n",
       "       [  21.45 ],\n",
       "       [   1.75 ],\n",
       "       [  43.82 ],\n",
       "       [   0.   ],\n",
       "       [  30.165],\n",
       "       [  21.3  ],\n",
       "       [   0.   ],\n",
       "       [  35.8  ],\n",
       "       [   0.   ],\n",
       "       [  75.75 ],\n",
       "       [   0.   ],\n",
       "       [ 282.43 ],\n",
       "       [   7.7  ],\n",
       "       [  61.9  ],\n",
       "       [  73.4  ],\n",
       "       [  17.15 ],\n",
       "       [ 171.   ],\n",
       "       [   0.   ],\n",
       "       [  85.5  ],\n",
       "       [  31.34 ],\n",
       "       [ 172.28 ],\n",
       "       [  19.8  ],\n",
       "       [  12.63 ],\n",
       "       [  85.95 ],\n",
       "       [   0.   ],\n",
       "       [  59.13 ],\n",
       "       [  38.18 ],\n",
       "       [   0.   ],\n",
       "       [ 343.4  ],\n",
       "       [ 334.7  ],\n",
       "       [  25.05 ],\n",
       "       [   0.   ],\n",
       "       [  11.55 ],\n",
       "       [   1.37 ]])"
      ]
     },
     "execution_count": 27,
     "metadata": {},
     "output_type": "execute_result"
    }
   ],
   "source": [
    "actual[:50]"
   ]
  },
  {
   "cell_type": "code",
   "execution_count": null,
   "metadata": {
    "collapsed": true
   },
   "outputs": [],
   "source": []
  }
 ],
 "metadata": {
  "kernelspec": {
   "display_name": "Python [conda env:tensorlab]",
   "language": "python",
   "name": "conda-env-tensorlab-py"
  },
  "language_info": {
   "codemirror_mode": {
    "name": "ipython",
    "version": 3
   },
   "file_extension": ".py",
   "mimetype": "text/x-python",
   "name": "python",
   "nbconvert_exporter": "python",
   "pygments_lexer": "ipython3",
   "version": "3.6.2"
  }
 },
 "nbformat": 4,
 "nbformat_minor": 2
}
