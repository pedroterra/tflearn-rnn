{
 "cells": [
  {
   "cell_type": "markdown",
   "metadata": {},
   "source": [
    "run with tensorlab env"
   ]
  },
  {
   "cell_type": "code",
   "execution_count": 1,
   "metadata": {
    "collapsed": true
   },
   "outputs": [],
   "source": [
    "import numpy as np\n",
    "import tensorflow as tf\n",
    "import tflearn\n",
    "import matplotlib.pyplot as plt\n",
    "from tflearn.data_utils import shuffle\n",
    "from numpy import genfromtxt\n",
    "\n",
    "\n",
    "%matplotlib inline"
   ]
  },
  {
   "cell_type": "code",
   "execution_count": 92,
   "metadata": {
    "collapsed": true
   },
   "outputs": [],
   "source": [
    "merchants_tpvs = genfromtxt('merchants_tpvs3.csv', delimiter=',')"
   ]
  },
  {
   "cell_type": "code",
   "execution_count": 93,
   "metadata": {
    "scrolled": true
   },
   "outputs": [],
   "source": [
    "# for i in merchants_tpvs:\n",
    "#     print (len(i))"
   ]
  },
  {
   "cell_type": "code",
   "execution_count": 94,
   "metadata": {},
   "outputs": [
    {
     "data": {
      "text/plain": [
       "100"
      ]
     },
     "execution_count": 94,
     "metadata": {},
     "output_type": "execute_result"
    }
   ],
   "source": [
    "len(merchants_tpvs)"
   ]
  },
  {
   "cell_type": "code",
   "execution_count": null,
   "metadata": {},
   "outputs": [],
   "source": []
  },
  {
   "cell_type": "code",
   "execution_count": 95,
   "metadata": {},
   "outputs": [
    {
     "data": {
      "text/plain": [
       "array([[   9400.,       0.,       0., ...,   22290.,   89620.,   34900.],\n",
       "       [      0.,       0.,       0., ...,   13450.,   56565.,   29240.],\n",
       "       [      0.,       0.,       0., ...,       0.,       0.,       0.],\n",
       "       ..., \n",
       "       [  14610.,       0.,   13250., ...,   19975.,   10990.,    6750.],\n",
       "       [   9800.,       0.,    9900., ...,       0.,       0.,       0.],\n",
       "       [  43157.,  110380.,   69259., ...,       0.,       0.,       0.]])"
      ]
     },
     "execution_count": 95,
     "metadata": {},
     "output_type": "execute_result"
    }
   ],
   "source": [
    "shuffle = merchants_tpvs\n",
    "np.random.shuffle(shuffle)\n",
    "shuffle"
   ]
  },
  {
   "cell_type": "code",
   "execution_count": 96,
   "metadata": {},
   "outputs": [],
   "source": [
    "test_fraction = 0.9\n",
    "records = len(merchants_tpvs)\n",
    "\n",
    "train_X, test_X = shuffle[:int(records*test_fraction)], shuffle[int(records*test_fraction):]"
   ]
  },
  {
   "cell_type": "code",
   "execution_count": 97,
   "metadata": {},
   "outputs": [
    {
     "data": {
      "text/plain": [
       "array([  0.00000000e+00,   0.00000000e+00,   0.00000000e+00,\n",
       "         1.15000000e+03,   3.23500000e+04,   1.96900000e+04,\n",
       "         3.02700000e+04,   0.00000000e+00,   2.60700000e+04,\n",
       "         1.77500000e+04,   6.34000000e+03,   8.38900000e+04,\n",
       "         1.07600000e+04,   5.93000000e+03,   1.00000000e+02,\n",
       "         6.07000000e+04,   2.30700000e+04,   1.18100000e+05,\n",
       "         7.73500000e+04,   1.03570000e+05,   2.92400000e+04,\n",
       "         2.04900000e+04,   6.55600000e+04,   2.80600000e+04,\n",
       "         1.11500000e+04,   6.80000000e+03,   1.95400000e+04,\n",
       "         4.58900000e+04,   0.00000000e+00,   1.99000000e+04,\n",
       "         6.58200000e+04,   6.54000000e+03,   1.56000000e+04,\n",
       "         7.65000000e+04,   2.29000000e+03,   2.60000000e+03,\n",
       "         1.02970000e+05,   3.75600000e+04,   0.00000000e+00,\n",
       "         3.24000000e+04,   1.39956000e+05,   2.17000000e+04,\n",
       "         1.34000000e+03,   8.98800000e+04,   1.58000000e+04,\n",
       "         9.16600000e+04,   1.53500000e+04,   9.00000000e+03,\n",
       "         1.94700000e+04,   1.97000000e+03,   1.66700000e+04,\n",
       "         7.48500000e+04,   1.66750000e+04,   0.00000000e+00,\n",
       "         3.36300000e+04,   0.00000000e+00,   1.09100000e+04,\n",
       "         9.43600000e+04,   8.85000000e+03,   1.21300000e+04,\n",
       "         2.90100000e+04,   3.47000000e+03,   5.72500000e+04,\n",
       "         4.80000000e+03,   5.01000000e+04,   4.54400000e+04,\n",
       "         1.63000000e+04,   3.11980000e+05,   1.04500000e+04,\n",
       "         6.75000000e+04,   3.87000000e+03,   6.50000000e+02,\n",
       "         1.14270000e+05,   4.75800000e+04,   8.98000000e+03,\n",
       "         4.00000000e+03,   8.34300000e+04,   1.16410000e+05,\n",
       "         7.64200000e+04,   3.54000000e+03,   5.38600000e+04,\n",
       "         1.27500000e+04,   3.30000000e+04,   2.28500000e+05,\n",
       "         9.93000000e+03,   2.02800000e+04,   2.75300000e+04,\n",
       "         4.88000000e+04,   0.00000000e+00,   1.21600000e+04,\n",
       "         1.20000000e+03,   2.78600000e+04,   1.70200000e+04,\n",
       "         2.47800000e+04,   2.97500000e+04,   2.87900000e+04,\n",
       "         7.00000000e+02,   1.38700000e+04,   7.08400000e+04,\n",
       "         1.90900000e+04,   1.85280000e+05,   8.12000000e+04,\n",
       "         2.47900000e+04,   3.04000000e+03,   1.91700000e+04,\n",
       "         2.86500000e+04,   1.10500000e+04,   3.76200000e+04,\n",
       "         1.25450000e+05,   3.68800000e+04,   1.21000000e+04,\n",
       "         3.33900000e+04,   1.26100000e+04,   1.22820000e+05,\n",
       "         1.07000000e+04,   2.98700000e+04,   1.10200000e+04,\n",
       "         1.32600000e+04,   1.43500000e+04,   6.10000000e+03,\n",
       "         1.47900000e+04,   1.95050000e+04,   8.70000000e+02,\n",
       "         0.00000000e+00,   9.22000000e+03,   0.00000000e+00,\n",
       "         5.13100000e+04,   5.03700000e+04,   1.32700000e+04,\n",
       "         4.07200000e+04,   5.88000000e+04,   5.20000000e+03,\n",
       "         9.78000000e+03,   3.22700000e+04,   1.68300000e+04,\n",
       "         1.64000000e+04,   4.37400000e+04,   4.65000000e+03,\n",
       "         1.87640000e+05,   3.05000000e+04,   4.50000000e+03,\n",
       "         1.43200000e+04,   0.00000000e+00,   1.64500000e+04,\n",
       "         3.32800000e+04,   5.40000000e+03,   1.29500000e+05,\n",
       "         2.36200000e+04,   8.60000000e+02,   2.89500000e+04,\n",
       "         6.02300000e+04,   6.53900000e+04,   1.19300000e+04,\n",
       "         7.68200000e+04,   1.27900000e+04,   0.00000000e+00,\n",
       "         1.43000000e+04,   6.49000000e+04,   1.36900000e+04,\n",
       "         2.44800000e+04,   5.05800000e+04,   4.79000000e+03,\n",
       "         0.00000000e+00,   3.67400000e+04,   4.76900000e+04,\n",
       "         8.08000000e+03,   1.16900000e+04,   7.64000000e+03,\n",
       "         3.27000000e+03,   1.71900000e+04,   3.43000000e+04,\n",
       "         5.74000000e+03,   9.67000000e+03,   1.59600000e+05,\n",
       "         6.41900000e+04,   2.72000000e+04,   5.55900000e+04,\n",
       "         4.21400000e+04,   4.56100000e+04,   1.58310000e+05,\n",
       "         3.95000000e+03,   6.88700000e+04,   2.29900000e+04,\n",
       "         1.08860000e+05,   4.01900000e+04,   3.47640000e+05,\n",
       "         1.56010000e+04,   6.83800000e+04,   1.50700000e+04,\n",
       "         2.50000000e+03,   2.31200000e+04,   1.43100000e+04,\n",
       "         2.74900000e+04,   2.21000000e+03,   2.36900000e+04,\n",
       "         5.03100000e+04,   8.97800000e+04,   5.19200000e+04,\n",
       "         3.19800000e+04,   5.91400000e+04,   2.01000000e+04,\n",
       "         0.00000000e+00,   0.00000000e+00,   0.00000000e+00,\n",
       "         0.00000000e+00,   9.58000000e+03,   1.18725000e+05,\n",
       "         0.00000000e+00,   7.68000000e+03,   0.00000000e+00,\n",
       "         0.00000000e+00,   8.75000000e+03,   0.00000000e+00,\n",
       "         3.68000000e+03,   7.59000000e+03,   1.98000000e+04,\n",
       "         1.74000000e+03,   7.29000000e+04,   1.33300000e+04,\n",
       "         4.12700000e+04,   4.76000000e+04,   1.87800000e+04,\n",
       "         1.07000000e+04,   2.35440000e+05,   5.97500000e+04,\n",
       "         4.09800000e+04,   1.44700000e+04,   5.59900000e+04,\n",
       "         5.33700000e+04,   6.41000000e+04,   1.15300000e+04,\n",
       "         1.78050000e+05,   6.98000000e+03,   3.91200000e+04,\n",
       "         1.67000000e+04,   2.02900000e+04,   1.94900000e+04,\n",
       "         2.82500000e+03,   2.29100000e+04,   7.97000000e+03,\n",
       "         0.00000000e+00,   1.07820000e+05,   7.39000000e+04,\n",
       "         2.42000000e+04,   1.43000000e+04])"
      ]
     },
     "execution_count": 97,
     "metadata": {},
     "output_type": "execute_result"
    }
   ],
   "source": [
    "train_X[6]"
   ]
  },
  {
   "cell_type": "code",
   "execution_count": 98,
   "metadata": {},
   "outputs": [
    {
     "data": {
      "text/plain": [
       "array([  3.49000000e+04,   2.92400000e+04,   0.00000000e+00,\n",
       "         1.23500000e+04,   0.00000000e+00,   4.46400000e+04,\n",
       "         1.43000000e+04,   7.43500000e+03,   0.00000000e+00,\n",
       "         2.00000000e+03,   1.70872000e+05,   3.84870000e+04,\n",
       "         0.00000000e+00,   2.15800000e+04,   7.00320000e+04,\n",
       "         1.92220000e+04,   0.00000000e+00,   1.92700000e+04,\n",
       "         1.16413000e+05,   3.13900000e+04,   7.00000000e+03,\n",
       "         5.23500000e+04,   1.34000000e+04,   0.00000000e+00,\n",
       "         0.00000000e+00,   0.00000000e+00,   0.00000000e+00,\n",
       "         8.60000000e+03,   3.62417000e+05,   1.92600000e+04,\n",
       "         0.00000000e+00,   0.00000000e+00,   2.18000000e+04,\n",
       "         0.00000000e+00,   0.00000000e+00,   9.61000000e+04,\n",
       "         3.23290000e+04,   0.00000000e+00,   0.00000000e+00,\n",
       "         5.73590000e+04,   0.00000000e+00,   0.00000000e+00,\n",
       "         6.93800000e+04,   8.10000000e+03,   5.20000000e+03,\n",
       "         6.02500000e+03,   6.47900000e+04,   1.64010000e+05,\n",
       "         3.84300000e+04,   0.00000000e+00,   2.75000000e+04,\n",
       "         2.15000000e+03,   1.05100000e+04,   2.20000000e+04,\n",
       "         6.05080000e+04,   0.00000000e+00,   5.08000000e+03,\n",
       "         0.00000000e+00,   2.16490000e+04,   4.82070000e+04,\n",
       "         1.11500000e+05,   1.12305000e+05,   5.00000000e+04,\n",
       "         9.50000000e+03,   3.38200000e+04,   4.49700000e+04,\n",
       "         5.03600000e+04,   0.00000000e+00,   6.00000000e+04,\n",
       "         4.93000000e+04,   1.29350000e+04,   0.00000000e+00,\n",
       "         5.36700000e+04,   1.27700000e+04,   7.26840000e+04,\n",
       "         0.00000000e+00,   1.50000000e+02,   0.00000000e+00,\n",
       "         0.00000000e+00,   2.57250000e+04,   5.30000000e+03,\n",
       "         2.94900000e+04,   4.79000000e+03,   2.19500000e+04,\n",
       "         1.51500000e+04,   1.46800000e+05,   2.76500000e+04,\n",
       "         3.77050000e+04,   2.32880000e+05,   2.19500000e+04])"
      ]
     },
     "execution_count": 98,
     "metadata": {},
     "output_type": "execute_result"
    }
   ],
   "source": [
    "train_Y = np.array(train_X[0][244])\n",
    "for i in train_X[1:]:\n",
    "    train_Y = np.append( train_Y, i[244])\n",
    "train_Y"
   ]
  },
  {
   "cell_type": "code",
   "execution_count": 99,
   "metadata": {
    "collapsed": true
   },
   "outputs": [],
   "source": [
    "test_Y = np.array(test_X[0][244])\n",
    "for i in test_X[1:]:\n",
    "    test_Y = np.append( test_Y, i[244])"
   ]
  },
  {
   "cell_type": "code",
   "execution_count": 100,
   "metadata": {},
   "outputs": [],
   "source": [
    "new_train_X = np.array(train_X[0][:-1])\n",
    "for i in train_X[1:]:\n",
    "    new_train_X = np.append( new_train_X, i[:-1])\n"
   ]
  },
  {
   "cell_type": "code",
   "execution_count": 101,
   "metadata": {
    "collapsed": true
   },
   "outputs": [],
   "source": [
    "new_test_X = np.array(test_X[0][:-1])\n",
    "for i in test_X[1:]:\n",
    "    new_test_X = np.append( new_test_X, i[:-1])"
   ]
  },
  {
   "cell_type": "code",
   "execution_count": 102,
   "metadata": {},
   "outputs": [
    {
     "data": {
      "text/plain": [
       "41580.0"
      ]
     },
     "execution_count": 102,
     "metadata": {},
     "output_type": "execute_result"
    }
   ],
   "source": [
    "new_test_X[0]"
   ]
  },
  {
   "cell_type": "code",
   "execution_count": 103,
   "metadata": {},
   "outputs": [],
   "source": [
    "new_train_X = np.reshape(new_train_X, (90, 244,1))/1000\n",
    "train_Y = np.reshape(train_Y, (90,1))/1000\n",
    "new_test_X = np.reshape(new_test_X, (10, 244,1))/1000\n",
    "test_Y = np.reshape(test_Y, (10,1))/1000"
   ]
  },
  {
   "cell_type": "code",
   "execution_count": 109,
   "metadata": {
    "collapsed": true
   },
   "outputs": [],
   "source": [
    "# Define the neural network\n",
    "def build_model():\n",
    "    # This resets all parameters and variables, leave this here\n",
    "    tf.reset_default_graph()\n",
    "\n",
    "    # input layer\n",
    "    net = tflearn.input_data(shape=[None, 244,1])\n",
    "    #net = tflearn.embedding(net, input_dim=1, output_dim=60)\n",
    "    # net = tflearn.lstm(net, n_units=30, return_seq=True)\n",
    "    net = tflearn.lstm(net, n_units=256, return_seq=False)\n",
    "    net = tflearn.fully_connected(net, 128, activation='linear')\n",
    "    net = tflearn.fully_connected(net, 64, activation='linear')\n",
    "    net = tflearn.fully_connected(net, 32, activation='linear')\n",
    "    net = tflearn.fully_connected(net, 1, activation='linear')\n",
    "    \n",
    "    #Output Layer\n",
    "    adam = tflearn.optimizers.Adam(learning_rate=0.0001, beta1=0.99)\n",
    "    net = tflearn.regression(net, optimizer= adam, loss='mean_square')\n",
    "    \n",
    "    # This model assumes that your network is named \"net\"  \n",
    "    #model = tflearn.DNN(net, clip_gradients=0.0, tensorboard_verbose=0)\n",
    "    model = tflearn.DNN(net, clip_gradients=5.0)\n",
    "    #model = tflearn.DNN(net)\n",
    "    return model"
   ]
  },
  {
   "cell_type": "code",
   "execution_count": 110,
   "metadata": {
    "collapsed": true
   },
   "outputs": [],
   "source": [
    "model = build_model()\n"
   ]
  },
  {
   "cell_type": "code",
   "execution_count": null,
   "metadata": {},
   "outputs": [
    {
     "name": "stdout",
     "output_type": "stream",
     "text": [
      "Training Step: 5  | total loss: \u001b[1m\u001b[32m5479.08984\u001b[0m\u001b[0m | time: 9.474s\n",
      "\u001b[2K\r",
      "| Adam | epoch: 001 | loss: 5479.08984 - binary_acc: 0.0050 -- iter: 50/81\n"
     ]
    }
   ],
   "source": [
    "# Training\n",
    "model.fit(new_train_X, train_Y, n_epoch=50, validation_set=0.1, show_metric=True, batch_size=10, shuffle=True)\n",
    "#model.fit(train_features, train_next_point, n_epoch=1, validation_set=0.1, show_metric=True, batch_size=1)"
   ]
  },
  {
   "cell_type": "code",
   "execution_count": 71,
   "metadata": {},
   "outputs": [
    {
     "name": "stdout",
     "output_type": "stream",
     "text": [
      "Test accuracy:  [ 284.13255063]\n"
     ]
    }
   ],
   "source": [
    "# Compare the labels that our model predicts with the actual labels\n",
    "\n",
    "# Find the indices of the most confident prediction for each item. That tells us the predicted digit for that sample.\n",
    "predictions = np.array(model.predict(new_test_X))\n",
    "\n",
    "# Calculate the accuracy, which is the percentage of times the predicated labels matched the actual labels\n",
    "actual = test_Y\n",
    "test_accuracy = np.mean(np.abs(predictions - actual), axis=0)\n",
    "\n",
    "# Print out the result\n",
    "print(\"Test accuracy: \", test_accuracy)"
   ]
  },
  {
   "cell_type": "code",
   "execution_count": 72,
   "metadata": {},
   "outputs": [
    {
     "data": {
      "text/plain": [
       "array([[  1.91128522e-03],\n",
       "       [  7.19409436e-05],\n",
       "       [  2.36255489e-03],\n",
       "       [  2.34573148e-03],\n",
       "       [  2.04339111e-03],\n",
       "       [  2.10057851e-03],\n",
       "       [  7.12962792e-05],\n",
       "       [  7.13083209e-05],\n",
       "       [  1.84747053e-03],\n",
       "       [  2.09719781e-03]], dtype=float32)"
      ]
     },
     "execution_count": 72,
     "metadata": {},
     "output_type": "execute_result"
    }
   ],
   "source": [
    "predictions"
   ]
  },
  {
   "cell_type": "code",
   "execution_count": 73,
   "metadata": {},
   "outputs": [
    {
     "data": {
      "text/plain": [
       "array([[   48.  ],\n",
       "       [    0.  ],\n",
       "       [   25.14],\n",
       "       [  379.6 ],\n",
       "       [   26.  ],\n",
       "       [  540.  ],\n",
       "       [    0.  ],\n",
       "       [    0.  ],\n",
       "       [ 1686.6 ],\n",
       "       [  136.  ]])"
      ]
     },
     "execution_count": 73,
     "metadata": {},
     "output_type": "execute_result"
    }
   ],
   "source": [
    "actual"
   ]
  },
  {
   "cell_type": "code",
   "execution_count": null,
   "metadata": {
    "collapsed": true
   },
   "outputs": [],
   "source": []
  }
 ],
 "metadata": {
  "kernelspec": {
   "display_name": "Python [conda env:tensorlab]",
   "language": "python",
   "name": "conda-env-tensorlab-py"
  },
  "language_info": {
   "codemirror_mode": {
    "name": "ipython",
    "version": 3
   },
   "file_extension": ".py",
   "mimetype": "text/x-python",
   "name": "python",
   "nbconvert_exporter": "python",
   "pygments_lexer": "ipython3",
   "version": "3.6.2"
  }
 },
 "nbformat": 4,
 "nbformat_minor": 2
}
