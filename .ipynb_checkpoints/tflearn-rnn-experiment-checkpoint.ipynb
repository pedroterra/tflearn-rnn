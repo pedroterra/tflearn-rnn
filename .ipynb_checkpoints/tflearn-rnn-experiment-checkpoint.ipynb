{
 "cells": [
  {
   "cell_type": "markdown",
   "metadata": {},
   "source": [
    "## tflearn rnn experiment\n",
    "use with tensorlab enviorment"
   ]
  },
  {
   "cell_type": "markdown",
   "metadata": {},
   "source": [
    "tasks:\n",
    "\n",
    "    [ ] create data set for training\n",
    "        [ ] sin\n",
    "        [ ] sales tpv day\n",
    "    \n",
    "    [ ] plot sin\n",
    "\n",
    "    "
   ]
  },
  {
   "cell_type": "code",
   "execution_count": 2,
   "metadata": {},
   "outputs": [],
   "source": [
    "import numpy as np\n",
    "import tensorflow as tf\n",
    "import tflearn\n",
    "#import matplotlib\n",
    "\n",
    "#import tflearn.datasets.mnist as mnist"
   ]
  },
  {
   "cell_type": "code",
   "execution_count": 3,
   "metadata": {
    "collapsed": true
   },
   "outputs": [],
   "source": [
    "import matplotlib.pyplot as plt\n",
    "%matplotlib inline\n"
   ]
  },
  {
   "cell_type": "code",
   "execution_count": 30,
   "metadata": {
    "collapsed": true
   },
   "outputs": [],
   "source": [
    "#create data points::\n",
    "\n",
    "SEQ_LEN = 31\n",
    "def create_time_series():\n",
    "  freq = (np.random.random()*0.5) + 0.1  # 0.1 to 0.6\n",
    "  ampl = np.random.random() + 0.5  # 0.5 to 1.5\n",
    "  x = np.sin(np.arange(0,SEQ_LEN) * freq) * ampl\n",
    "  return x\n",
    "\n"
   ]
  },
  {
   "cell_type": "code",
   "execution_count": 31,
   "metadata": {},
   "outputs": [
    {
     "data": {
      "text/plain": [
       "array([ 0.        ,  0.60675116,  1.10870806,  1.41917584,  1.48453244,\n",
       "        1.2934899 ,  0.87904387,  0.31277489, -0.30751462, -0.87469212,\n",
       "       -1.29079828, -1.48396583, -1.42083209, -1.11230112, -0.61166046,\n",
       "       -0.00537764,  0.60183398,  1.1051006 ,  1.41750116,  1.48507979,\n",
       "        1.29616472,  0.8833842 ,  0.31803109, -0.30225036, -0.87032903,\n",
       "       -1.2880899 , -1.48337995, -1.4224699 , -1.11587975, -0.61656182,\n",
       "       -0.0107552 ])"
      ]
     },
     "execution_count": 31,
     "metadata": {},
     "output_type": "execute_result"
    }
   ],
   "source": [
    "create_time_series()"
   ]
  },
  {
   "cell_type": "code",
   "execution_count": 32,
   "metadata": {
    "scrolled": true
   },
   "outputs": [
    {
     "data": {
      "text/plain": [
       "array([ 0.        ,  0.31975255,  0.61453411,  0.8613238 ,  1.04084863,\n",
       "        1.13908867,  1.14837189,  1.06797331,  0.90417164,  0.66975894,\n",
       "        0.38304158,  0.0664107 , -0.25540651, -0.55727781, -0.81562865,\n",
       "       -1.0102832 , -1.12603995, -1.15385891, -1.09156757, -0.94403055,\n",
       "       -0.72276972, -0.44506439, -0.13260187,  0.19021616,  0.49817931,\n",
       "        0.76723727,  0.97637805,  1.10926885,  1.15553159,  1.11155341,\n",
       "        0.98076876])"
      ]
     },
     "execution_count": 32,
     "metadata": {},
     "output_type": "execute_result"
    }
   ],
   "source": [
    "y1 = create_time_series()\n",
    "y1"
   ]
  },
  {
   "cell_type": "code",
   "execution_count": 36,
   "metadata": {
    "scrolled": true
   },
   "outputs": [
    {
     "data": {
      "text/plain": [
       "array([ 0.        ,  0.31975255,  0.61453411,  0.8613238 ,  1.04084863,\n",
       "        1.13908867,  1.14837189,  1.06797331,  0.90417164,  0.66975894,\n",
       "        0.38304158,  0.0664107 , -0.25540651, -0.55727781, -0.81562865,\n",
       "       -1.0102832 , -1.12603995, -1.15385891, -1.09156757, -0.94403055,\n",
       "       -0.72276972, -0.44506439, -0.13260187,  0.19021616,  0.49817931,\n",
       "        0.76723727,  0.97637805,  1.10926885,  1.15553159,  1.11155341])"
      ]
     },
     "execution_count": 36,
     "metadata": {},
     "output_type": "execute_result"
    }
   ],
   "source": [
    "y1[:30]"
   ]
  },
  {
   "cell_type": "code",
   "execution_count": 37,
   "metadata": {
    "scrolled": true
   },
   "outputs": [
    {
     "data": {
      "text/plain": [
       "0.98076876018229098"
      ]
     },
     "execution_count": 37,
     "metadata": {},
     "output_type": "execute_result"
    }
   ],
   "source": [
    "y1[30]"
   ]
  },
  {
   "cell_type": "code",
   "execution_count": null,
   "metadata": {
    "collapsed": true
   },
   "outputs": [],
   "source": [
    "features = []\n",
    "next_poit = []\n",
    "\n",
    "for i in range(10):\n",
    "    x = create_time_series()\n",
    "    features.append(x[:30])\n",
    "    next_point.append(x[30])\n",
    "    \n",
    "\n",
    "    "
   ]
  },
  {
   "cell_type": "code",
   "execution_count": null,
   "metadata": {
    "collapsed": true
   },
   "outputs": [],
   "source": []
  },
  {
   "cell_type": "code",
   "execution_count": null,
   "metadata": {
    "collapsed": true
   },
   "outputs": [],
   "source": []
  },
  {
   "cell_type": "code",
   "execution_count": null,
   "metadata": {
    "collapsed": true
   },
   "outputs": [],
   "source": []
  },
  {
   "cell_type": "code",
   "execution_count": null,
   "metadata": {
    "collapsed": true
   },
   "outputs": [],
   "source": []
  },
  {
   "cell_type": "code",
   "execution_count": null,
   "metadata": {
    "collapsed": true
   },
   "outputs": [],
   "source": []
  },
  {
   "cell_type": "code",
   "execution_count": 35,
   "metadata": {},
   "outputs": [
    {
     "data": {
      "image/png": "[encoded data removed]",
      "text/plain": [
       "<matplotlib.figure.Figure at 0x124fb4400>"
      ]
     },
     "metadata": {},
     "output_type": "display_data"
    }
   ],
   "source": [
    "\n",
    "sample = SEQ_LEN\n",
    "x = np.arange(sample)\n",
    "#y = np.sin(y1)\n",
    "plt.plot(x, y1)\n",
    "plt.xlabel('sample(n)')\n",
    "plt.ylabel('voltage(V)')\n",
    "plt.show()"
   ]
  },
  {
   "cell_type": "code",
   "execution_count": 15,
   "metadata": {},
   "outputs": [
    {
     "data": {
      "image/png": "[encoded data removed]",
      "text/plain": [
       "<matplotlib.figure.Figure at 0x1246b78d0>"
      ]
     },
     "metadata": {},
     "output_type": "display_data"
    }
   ],
   "source": [
    "\n",
    "Fs = 8000\n",
    "f = 5\n",
    "sample = 8000\n",
    "x = np.arange(sample)\n",
    "y = np.sin(2 * np.pi * f * x / Fs)\n",
    "plt.plot(x, y)\n",
    "plt.xlabel('sample(n)')\n",
    "plt.ylabel('voltage(V)')\n",
    "plt.show()"
   ]
  },
  {
   "cell_type": "code",
   "execution_count": null,
   "metadata": {
    "collapsed": true
   },
   "outputs": [],
   "source": [
    "# Define the neural network\n",
    "def build_model():\n",
    "    # This resets all parameters and variables, leave this here\n",
    "    tf.reset_default_graph()\n",
    "    \n",
    "    #### Your code ####\n",
    "    # Include the input layer, hidden layer(s), and set how you want to train the model\n",
    "    \n",
    "    # input layer\n",
    "    net = tflearn.input_data([None, 784])\n",
    "    #net = tflearn.input_data([None, 784, 10])\n",
    "    \n",
    "    #hidden Layer\n",
    "    #net = tflearn.lstm(net, 128, dropout=0.8)\n",
    "    \n",
    "    net = tflearn.fully_connected(net, 800, activation='ReLU')\n",
    "    \n",
    "    #net = tflearn.fully_connected(net, 100, activation='ReLU')\n",
    "    \n",
    "    #Output Layer\n",
    "    net = tflearn.fully_connected(net, 10, activation='softmax')\n",
    "    \n",
    "    \n",
    "    adam = tflearn.optimizers.Adam(learning_rate=0.001, beta1=0.99)\n",
    "    #adagrad = .AdaGrad(learning_rate=0.01, initial_accumulator_value=0.01)\n",
    "\n",
    "    #net = tflearn.regression(net, optimizer=adagrad, learning_rate=0.1, loss='categorical_crossentropy')\n",
    "    net = tflearn.regression(net, optimizer=adam)\n",
    "    \n",
    "    # This model assumes that your network is named \"net\"  \n",
    "    model = tflearn.DNN(net)\n",
    "    return model"
   ]
  },
  {
   "cell_type": "code",
   "execution_count": null,
   "metadata": {
    "collapsed": true
   },
   "outputs": [],
   "source": [
    "model = build_model()\n"
   ]
  },
  {
   "cell_type": "code",
   "execution_count": null,
   "metadata": {
    "collapsed": true
   },
   "outputs": [],
   "source": [
    "# Training\n",
    "model.fit(trainX, trainY, validation_set=0.1, show_metric=True, batch_size=100, n_epoch=19)"
   ]
  },
  {
   "cell_type": "code",
   "execution_count": null,
   "metadata": {
    "collapsed": true
   },
   "outputs": [],
   "source": [
    "# Compare the labels that our model predicts with the actual labels\n",
    "\n",
    "# Find the indices of the most confident prediction for each item. That tells us the predicted digit for that sample.\n",
    "predictions = np.array(model.predict(testX)).argmax(axis=1)\n",
    "\n",
    "# Calculate the accuracy, which is the percentage of times the predicated labels matched the actual labels\n",
    "actual = testY.argmax(axis=1)\n",
    "test_accuracy = np.mean(predictions == actual, axis=0)\n",
    "\n",
    "# Print out the result\n",
    "print(\"Test accuracy: \", test_accuracy)"
   ]
  }
 ],
 "metadata": {
  "kernelspec": {
   "display_name": "Python [default]",
   "language": "python",
   "name": "python3"
  },
  "language_info": {
   "codemirror_mode": {
    "name": "ipython",
    "version": 3
   },
   "file_extension": ".py",
   "mimetype": "text/x-python",
   "name": "python",
   "nbconvert_exporter": "python",
   "pygments_lexer": "ipython3",
   "version": "3.6.2"
  }
 },
 "nbformat": 4,
 "nbformat_minor": 2
}
