{
 "cells": [
  {
   "cell_type": "code",
   "execution_count": null,
   "metadata": {},
   "outputs": [],
   "source": [
    "#for referece\n",
    "\n",
    "# Fs = 8000\n",
    "# f = 5\n",
    "# sample = 8000\n",
    "# x = np.arange(sample)\n",
    "# y = np.sin(2 * np.pi * f * x / Fs)\n",
    "# plt.plot(x, y)\n",
    "# plt.xlabel('sample(n)')\n",
    "# plt.ylabel('voltage(V)')\n",
    "# plt.show()"
   ]
  },
  {
   "cell_type": "code",
   "execution_count": null,
   "metadata": {
    "collapsed": true
   },
   "outputs": [],
   "source": [
    "# #create data points::\n",
    "\n",
    "# seq_len = 31\n",
    "# def create_time_series(seq_len):\n",
    "#   freq = (np.random.random()*0.5) + 0.1  # 0.1 to 0.6\n",
    "#   ampl = np.random.random() + 0.5  # 0.5 to 1.5\n",
    "#   x = np.sin(np.arange(0,seq_len) * freq) * ampl\n",
    "#   return x"
   ]
  },
  {
   "cell_type": "markdown",
   "metadata": {},
   "source": [
    "## tflearn rnn experiment\n",
    "use with tensorlab enviorment"
   ]
  },
  {
   "cell_type": "markdown",
   "metadata": {},
   "source": [
    "tasks:\n",
    "\n",
    "    [ ] create data set for training\n",
    "        [ ] sin\n",
    "        [ ] sales tpv day\n",
    "    \n",
    "    [ ] plot sin\n",
    "\n",
    "    "
   ]
  },
  {
   "cell_type": "code",
   "execution_count": 2,
   "metadata": {
    "collapsed": true
   },
   "outputs": [],
   "source": [
    "import numpy as np\n",
    "import tensorflow as tf\n",
    "import tflearn\n",
    "import matplotlib.pyplot as plt\n",
    "from tflearn.data_utils import shuffle\n",
    "\n",
    "%matplotlib inline"
   ]
  },
  {
   "cell_type": "code",
   "execution_count": 4,
   "metadata": {},
   "outputs": [
    {
     "name": "stdout",
     "output_type": "stream",
     "text": [
      "[30 31 32 33 34 35 36 37 38 39 40 41 42 43 44 45 46 47 48 49 50 51 52 53 54\n",
      " 55 56 57 58 59]\n"
     ]
    }
   ],
   "source": [
    "#create trainX and train Y\n",
    "\n",
    "np_train_exp_X = np.array([[0, 1, 2, 3, 4, 5, 6, 7, 8, 9, 10, 11, 12, 13, 14, 15, 16, 17, 18, 19, 20, 21, 22, 23, 24, 25, 26, 27, 28, 29], [1, 2, 3, 4, 5, 6, 7, 8, 9, 10, 11, 12, 13, 14, 15, 16, 17, 18, 19, 20, 21, 22, 23, 24, 25, 26, 27, 28, 29, 30], [2, 3, 4, 5, 6, 7, 8, 9, 10, 11, 12, 13, 14, 15, 16, 17, 18, 19, 20, 21, 22, 23, 24, 25, 26, 27, 28, 29, 30, 31], [3, 4, 5, 6, 7, 8, 9, 10, 11, 12, 13, 14, 15, 16, 17, 18, 19, 20, 21, 22, 23, 24, 25, 26, 27, 28, 29, 30, 31, 32], [4, 5, 6, 7, 8, 9, 10, 11, 12, 13, 14, 15, 16, 17, 18, 19, 20, 21, 22, 23, 24, 25, 26, 27, 28, 29, 30, 31, 32, 33], [5, 6, 7, 8, 9, 10, 11, 12, 13, 14, 15, 16, 17, 18, 19, 20, 21, 22, 23, 24, 25, 26, 27, 28, 29, 30, 31, 32, 33, 34], [6, 7, 8, 9, 10, 11, 12, 13, 14, 15, 16, 17, 18, 19, 20, 21, 22, 23, 24, 25, 26, 27, 28, 29, 30, 31, 32, 33, 34, 35], [7, 8, 9, 10, 11, 12, 13, 14, 15, 16, 17, 18, 19, 20, 21, 22, 23, 24, 25, 26, 27, 28, 29, 30, 31, 32, 33, 34, 35, 36], [8, 9, 10, 11, 12, 13, 14, 15, 16, 17, 18, 19, 20, 21, 22, 23, 24, 25, 26, 27, 28, 29, 30, 31, 32, 33, 34, 35, 36, 37], [9, 10, 11, 12, 13, 14, 15, 16, 17, 18, 19, 20, 21, 22, 23, 24, 25, 26, 27, 28, 29, 30, 31, 32, 33, 34, 35, 36, 37, 38], [10, 11, 12, 13, 14, 15, 16, 17, 18, 19, 20, 21, 22, 23, 24, 25, 26, 27, 28, 29, 30, 31, 32, 33, 34, 35, 36, 37, 38, 39], [11, 12, 13, 14, 15, 16, 17, 18, 19, 20, 21, 22, 23, 24, 25, 26, 27, 28, 29, 30, 31, 32, 33, 34, 35, 36, 37, 38, 39, 40], [12, 13, 14, 15, 16, 17, 18, 19, 20, 21, 22, 23, 24, 25, 26, 27, 28, 29, 30, 31, 32, 33, 34, 35, 36, 37, 38, 39, 40, 41], [13, 14, 15, 16, 17, 18, 19, 20, 21, 22, 23, 24, 25, 26, 27, 28, 29, 30, 31, 32, 33, 34, 35, 36, 37, 38, 39, 40, 41, 42], [14, 15, 16, 17, 18, 19, 20, 21, 22, 23, 24, 25, 26, 27, 28, 29, 30, 31, 32, 33, 34, 35, 36, 37, 38, 39, 40, 41, 42, 43], [15, 16, 17, 18, 19, 20, 21, 22, 23, 24, 25, 26, 27, 28, 29, 30, 31, 32, 33, 34, 35, 36, 37, 38, 39, 40, 41, 42, 43, 44], [16, 17, 18, 19, 20, 21, 22, 23, 24, 25, 26, 27, 28, 29, 30, 31, 32, 33, 34, 35, 36, 37, 38, 39, 40, 41, 42, 43, 44, 45], [17, 18, 19, 20, 21, 22, 23, 24, 25, 26, 27, 28, 29, 30, 31, 32, 33, 34, 35, 36, 37, 38, 39, 40, 41, 42, 43, 44, 45, 46], [18, 19, 20, 21, 22, 23, 24, 25, 26, 27, 28, 29, 30, 31, 32, 33, 34, 35, 36, 37, 38, 39, 40, 41, 42, 43, 44, 45, 46, 47], [19, 20, 21, 22, 23, 24, 25, 26, 27, 28, 29, 30, 31, 32, 33, 34, 35, 36, 37, 38, 39, 40, 41, 42, 43, 44, 45, 46, 47, 48], [20, 21, 22, 23, 24, 25, 26, 27, 28, 29, 30, 31, 32, 33, 34, 35, 36, 37, 38, 39, 40, 41, 42, 43, 44, 45, 46, 47, 48, 49], [21, 22, 23, 24, 25, 26, 27, 28, 29, 30, 31, 32, 33, 34, 35, 36, 37, 38, 39, 40, 41, 42, 43, 44, 45, 46, 47, 48, 49, 50], [22, 23, 24, 25, 26, 27, 28, 29, 30, 31, 32, 33, 34, 35, 36, 37, 38, 39, 40, 41, 42, 43, 44, 45, 46, 47, 48, 49, 50, 51], [23, 24, 25, 26, 27, 28, 29, 30, 31, 32, 33, 34, 35, 36, 37, 38, 39, 40, 41, 42, 43, 44, 45, 46, 47, 48, 49, 50, 51, 52], [24, 25, 26, 27, 28, 29, 30, 31, 32, 33, 34, 35, 36, 37, 38, 39, 40, 41, 42, 43, 44, 45, 46, 47, 48, 49, 50, 51, 52, 53], [25, 26, 27, 28, 29, 30, 31, 32, 33, 34, 35, 36, 37, 38, 39, 40, 41, 42, 43, 44, 45, 46, 47, 48, 49, 50, 51, 52, 53, 54], [26, 27, 28, 29, 30, 31, 32, 33, 34, 35, 36, 37, 38, 39, 40, 41, 42, 43, 44, 45, 46, 47, 48, 49, 50, 51, 52, 53, 54, 55], [27, 28, 29, 30, 31, 32, 33, 34, 35, 36, 37, 38, 39, 40, 41, 42, 43, 44, 45, 46, 47, 48, 49, 50, 51, 52, 53, 54, 55, 56], [28, 29, 30, 31, 32, 33, 34, 35, 36, 37, 38, 39, 40, 41, 42, 43, 44, 45, 46, 47, 48, 49, 50, 51, 52, 53, 54, 55, 56, 57], [29, 30, 31, 32, 33, 34, 35, 36, 37, 38, 39, 40, 41, 42, 43, 44, 45, 46, 47, 48, 49, 50, 51, 52, 53, 54, 55, 56, 57, 58]], np.int32)\n",
    "#print(np_train_exp_X)\n",
    "np_train_exp_Y = np.arange(30, 60)\n",
    "print(np_train_exp_Y)"
   ]
  },
  {
   "cell_type": "code",
   "execution_count": 105,
   "metadata": {},
   "outputs": [
    {
     "data": {
      "text/plain": [
       "(30, 1)"
      ]
     },
     "execution_count": 105,
     "metadata": {},
     "output_type": "execute_result"
    }
   ],
   "source": [
    "#reshape trainX\n",
    "np_train_exp_X = np.reshape(np_train_exp_X, (30, 30,1))/10\n",
    "\n",
    "#reshape trainY\n",
    "np_train_exp_Y = np.reshape(np_train_exp_Y, (30,1))/10\n",
    "np_train_exp_Y.shape\n",
    "#np_train_exp_X.shape"
   ]
  },
  {
   "cell_type": "code",
   "execution_count": 106,
   "metadata": {
    "scrolled": false
   },
   "outputs": [],
   "source": [
    "#create TestX and TestY\n",
    "\n",
    "np_test_exp_X = np.array([[30, 31, 32, 33, 34, 35, 36, 37, 38, 39, 40, 41, 42, 43, 44, 45, 46, 47, 48, 49, 50, 51, 52, 53, 54, 55, 56, 57, 58, 59], [31, 32, 33, 34, 35, 36, 37, 38, 39, 40, 41, 42, 43, 44, 45, 46, 47, 48, 49, 50, 51, 52, 53, 54, 55, 56, 57, 58, 59, 60], [32, 33, 34, 35, 36, 37, 38, 39, 40, 41, 42, 43, 44, 45, 46, 47, 48, 49, 50, 51, 52, 53, 54, 55, 56, 57, 58, 59, 60, 61], [33, 34, 35, 36, 37, 38, 39, 40, 41, 42, 43, 44, 45, 46, 47, 48, 49, 50, 51, 52, 53, 54, 55, 56, 57, 58, 59, 60, 61, 62], [34, 35, 36, 37, 38, 39, 40, 41, 42, 43, 44, 45, 46, 47, 48, 49, 50, 51, 52, 53, 54, 55, 56, 57, 58, 59, 60, 61, 62, 63], [35, 36, 37, 38, 39, 40, 41, 42, 43, 44, 45, 46, 47, 48, 49, 50, 51, 52, 53, 54, 55, 56, 57, 58, 59, 60, 61, 62, 63, 64], [36, 37, 38, 39, 40, 41, 42, 43, 44, 45, 46, 47, 48, 49, 50, 51, 52, 53, 54, 55, 56, 57, 58, 59, 60, 61, 62, 63, 64, 65], [37, 38, 39, 40, 41, 42, 43, 44, 45, 46, 47, 48, 49, 50, 51, 52, 53, 54, 55, 56, 57, 58, 59, 60, 61, 62, 63, 64, 65, 66], [38, 39, 40, 41, 42, 43, 44, 45, 46, 47, 48, 49, 50, 51, 52, 53, 54, 55, 56, 57, 58, 59, 60, 61, 62, 63, 64, 65, 66, 67], [39, 40, 41, 42, 43, 44, 45, 46, 47, 48, 49, 50, 51, 52, 53, 54, 55, 56, 57, 58, 59, 60, 61, 62, 63, 64, 65, 66, 67, 68]], np.int32) \n",
    "np_test_exp_X = np.reshape(np_test_exp_X, (10, 30,1))/10\n",
    "\n",
    "#print(np_test_exp_X)\n",
    "np_test_exp_Y = np.arange(60,70)\n",
    "np_test_exp_Y = np.reshape(np_test_exp_Y, (10,1))/10\n"
   ]
  },
  {
   "cell_type": "code",
   "execution_count": 107,
   "metadata": {},
   "outputs": [
    {
     "data": {
      "text/plain": [
       "array([[[ 3. ],\n",
       "        [ 3.1],\n",
       "        [ 3.2],\n",
       "        [ 3.3],\n",
       "        [ 3.4],\n",
       "        [ 3.5],\n",
       "        [ 3.6],\n",
       "        [ 3.7],\n",
       "        [ 3.8],\n",
       "        [ 3.9],\n",
       "        [ 4. ],\n",
       "        [ 4.1],\n",
       "        [ 4.2],\n",
       "        [ 4.3],\n",
       "        [ 4.4],\n",
       "        [ 4.5],\n",
       "        [ 4.6],\n",
       "        [ 4.7],\n",
       "        [ 4.8],\n",
       "        [ 4.9],\n",
       "        [ 5. ],\n",
       "        [ 5.1],\n",
       "        [ 5.2],\n",
       "        [ 5.3],\n",
       "        [ 5.4],\n",
       "        [ 5.5],\n",
       "        [ 5.6],\n",
       "        [ 5.7],\n",
       "        [ 5.8],\n",
       "        [ 5.9]],\n",
       "\n",
       "       [[ 3.1],\n",
       "        [ 3.2],\n",
       "        [ 3.3],\n",
       "        [ 3.4],\n",
       "        [ 3.5],\n",
       "        [ 3.6],\n",
       "        [ 3.7],\n",
       "        [ 3.8],\n",
       "        [ 3.9],\n",
       "        [ 4. ],\n",
       "        [ 4.1],\n",
       "        [ 4.2],\n",
       "        [ 4.3],\n",
       "        [ 4.4],\n",
       "        [ 4.5],\n",
       "        [ 4.6],\n",
       "        [ 4.7],\n",
       "        [ 4.8],\n",
       "        [ 4.9],\n",
       "        [ 5. ],\n",
       "        [ 5.1],\n",
       "        [ 5.2],\n",
       "        [ 5.3],\n",
       "        [ 5.4],\n",
       "        [ 5.5],\n",
       "        [ 5.6],\n",
       "        [ 5.7],\n",
       "        [ 5.8],\n",
       "        [ 5.9],\n",
       "        [ 6. ]],\n",
       "\n",
       "       [[ 3.2],\n",
       "        [ 3.3],\n",
       "        [ 3.4],\n",
       "        [ 3.5],\n",
       "        [ 3.6],\n",
       "        [ 3.7],\n",
       "        [ 3.8],\n",
       "        [ 3.9],\n",
       "        [ 4. ],\n",
       "        [ 4.1],\n",
       "        [ 4.2],\n",
       "        [ 4.3],\n",
       "        [ 4.4],\n",
       "        [ 4.5],\n",
       "        [ 4.6],\n",
       "        [ 4.7],\n",
       "        [ 4.8],\n",
       "        [ 4.9],\n",
       "        [ 5. ],\n",
       "        [ 5.1],\n",
       "        [ 5.2],\n",
       "        [ 5.3],\n",
       "        [ 5.4],\n",
       "        [ 5.5],\n",
       "        [ 5.6],\n",
       "        [ 5.7],\n",
       "        [ 5.8],\n",
       "        [ 5.9],\n",
       "        [ 6. ],\n",
       "        [ 6.1]],\n",
       "\n",
       "       [[ 3.3],\n",
       "        [ 3.4],\n",
       "        [ 3.5],\n",
       "        [ 3.6],\n",
       "        [ 3.7],\n",
       "        [ 3.8],\n",
       "        [ 3.9],\n",
       "        [ 4. ],\n",
       "        [ 4.1],\n",
       "        [ 4.2],\n",
       "        [ 4.3],\n",
       "        [ 4.4],\n",
       "        [ 4.5],\n",
       "        [ 4.6],\n",
       "        [ 4.7],\n",
       "        [ 4.8],\n",
       "        [ 4.9],\n",
       "        [ 5. ],\n",
       "        [ 5.1],\n",
       "        [ 5.2],\n",
       "        [ 5.3],\n",
       "        [ 5.4],\n",
       "        [ 5.5],\n",
       "        [ 5.6],\n",
       "        [ 5.7],\n",
       "        [ 5.8],\n",
       "        [ 5.9],\n",
       "        [ 6. ],\n",
       "        [ 6.1],\n",
       "        [ 6.2]],\n",
       "\n",
       "       [[ 3.4],\n",
       "        [ 3.5],\n",
       "        [ 3.6],\n",
       "        [ 3.7],\n",
       "        [ 3.8],\n",
       "        [ 3.9],\n",
       "        [ 4. ],\n",
       "        [ 4.1],\n",
       "        [ 4.2],\n",
       "        [ 4.3],\n",
       "        [ 4.4],\n",
       "        [ 4.5],\n",
       "        [ 4.6],\n",
       "        [ 4.7],\n",
       "        [ 4.8],\n",
       "        [ 4.9],\n",
       "        [ 5. ],\n",
       "        [ 5.1],\n",
       "        [ 5.2],\n",
       "        [ 5.3],\n",
       "        [ 5.4],\n",
       "        [ 5.5],\n",
       "        [ 5.6],\n",
       "        [ 5.7],\n",
       "        [ 5.8],\n",
       "        [ 5.9],\n",
       "        [ 6. ],\n",
       "        [ 6.1],\n",
       "        [ 6.2],\n",
       "        [ 6.3]],\n",
       "\n",
       "       [[ 3.5],\n",
       "        [ 3.6],\n",
       "        [ 3.7],\n",
       "        [ 3.8],\n",
       "        [ 3.9],\n",
       "        [ 4. ],\n",
       "        [ 4.1],\n",
       "        [ 4.2],\n",
       "        [ 4.3],\n",
       "        [ 4.4],\n",
       "        [ 4.5],\n",
       "        [ 4.6],\n",
       "        [ 4.7],\n",
       "        [ 4.8],\n",
       "        [ 4.9],\n",
       "        [ 5. ],\n",
       "        [ 5.1],\n",
       "        [ 5.2],\n",
       "        [ 5.3],\n",
       "        [ 5.4],\n",
       "        [ 5.5],\n",
       "        [ 5.6],\n",
       "        [ 5.7],\n",
       "        [ 5.8],\n",
       "        [ 5.9],\n",
       "        [ 6. ],\n",
       "        [ 6.1],\n",
       "        [ 6.2],\n",
       "        [ 6.3],\n",
       "        [ 6.4]],\n",
       "\n",
       "       [[ 3.6],\n",
       "        [ 3.7],\n",
       "        [ 3.8],\n",
       "        [ 3.9],\n",
       "        [ 4. ],\n",
       "        [ 4.1],\n",
       "        [ 4.2],\n",
       "        [ 4.3],\n",
       "        [ 4.4],\n",
       "        [ 4.5],\n",
       "        [ 4.6],\n",
       "        [ 4.7],\n",
       "        [ 4.8],\n",
       "        [ 4.9],\n",
       "        [ 5. ],\n",
       "        [ 5.1],\n",
       "        [ 5.2],\n",
       "        [ 5.3],\n",
       "        [ 5.4],\n",
       "        [ 5.5],\n",
       "        [ 5.6],\n",
       "        [ 5.7],\n",
       "        [ 5.8],\n",
       "        [ 5.9],\n",
       "        [ 6. ],\n",
       "        [ 6.1],\n",
       "        [ 6.2],\n",
       "        [ 6.3],\n",
       "        [ 6.4],\n",
       "        [ 6.5]],\n",
       "\n",
       "       [[ 3.7],\n",
       "        [ 3.8],\n",
       "        [ 3.9],\n",
       "        [ 4. ],\n",
       "        [ 4.1],\n",
       "        [ 4.2],\n",
       "        [ 4.3],\n",
       "        [ 4.4],\n",
       "        [ 4.5],\n",
       "        [ 4.6],\n",
       "        [ 4.7],\n",
       "        [ 4.8],\n",
       "        [ 4.9],\n",
       "        [ 5. ],\n",
       "        [ 5.1],\n",
       "        [ 5.2],\n",
       "        [ 5.3],\n",
       "        [ 5.4],\n",
       "        [ 5.5],\n",
       "        [ 5.6],\n",
       "        [ 5.7],\n",
       "        [ 5.8],\n",
       "        [ 5.9],\n",
       "        [ 6. ],\n",
       "        [ 6.1],\n",
       "        [ 6.2],\n",
       "        [ 6.3],\n",
       "        [ 6.4],\n",
       "        [ 6.5],\n",
       "        [ 6.6]],\n",
       "\n",
       "       [[ 3.8],\n",
       "        [ 3.9],\n",
       "        [ 4. ],\n",
       "        [ 4.1],\n",
       "        [ 4.2],\n",
       "        [ 4.3],\n",
       "        [ 4.4],\n",
       "        [ 4.5],\n",
       "        [ 4.6],\n",
       "        [ 4.7],\n",
       "        [ 4.8],\n",
       "        [ 4.9],\n",
       "        [ 5. ],\n",
       "        [ 5.1],\n",
       "        [ 5.2],\n",
       "        [ 5.3],\n",
       "        [ 5.4],\n",
       "        [ 5.5],\n",
       "        [ 5.6],\n",
       "        [ 5.7],\n",
       "        [ 5.8],\n",
       "        [ 5.9],\n",
       "        [ 6. ],\n",
       "        [ 6.1],\n",
       "        [ 6.2],\n",
       "        [ 6.3],\n",
       "        [ 6.4],\n",
       "        [ 6.5],\n",
       "        [ 6.6],\n",
       "        [ 6.7]],\n",
       "\n",
       "       [[ 3.9],\n",
       "        [ 4. ],\n",
       "        [ 4.1],\n",
       "        [ 4.2],\n",
       "        [ 4.3],\n",
       "        [ 4.4],\n",
       "        [ 4.5],\n",
       "        [ 4.6],\n",
       "        [ 4.7],\n",
       "        [ 4.8],\n",
       "        [ 4.9],\n",
       "        [ 5. ],\n",
       "        [ 5.1],\n",
       "        [ 5.2],\n",
       "        [ 5.3],\n",
       "        [ 5.4],\n",
       "        [ 5.5],\n",
       "        [ 5.6],\n",
       "        [ 5.7],\n",
       "        [ 5.8],\n",
       "        [ 5.9],\n",
       "        [ 6. ],\n",
       "        [ 6.1],\n",
       "        [ 6.2],\n",
       "        [ 6.3],\n",
       "        [ 6.4],\n",
       "        [ 6.5],\n",
       "        [ 6.6],\n",
       "        [ 6.7],\n",
       "        [ 6.8]]])"
      ]
     },
     "execution_count": 107,
     "metadata": {},
     "output_type": "execute_result"
    }
   ],
   "source": [
    "np_test_exp_X"
   ]
  },
  {
   "cell_type": "code",
   "execution_count": 108,
   "metadata": {},
   "outputs": [],
   "source": [
    "# x = np.array ([0,]*n)\n",
    "# x = np.array ([])"
   ]
  },
  {
   "cell_type": "code",
   "execution_count": 109,
   "metadata": {
    "collapsed": true
   },
   "outputs": [],
   "source": [
    "# Define the neural network\n",
    "def build_model():\n",
    "    # This resets all parameters and variables, leave this here\n",
    "    tf.reset_default_graph()\n",
    "    \n",
    "    #### Your code ####\n",
    "    # Include the input layer, hidden layer(s), and set how you want to train the model\n",
    "    \n",
    "    # input layer\n",
    "    \n",
    "    net = tflearn.input_data(shape=[None, 30,1])\n",
    "    #net = tflearn.embedding(net, input_dim=1, output_dim=60)\n",
    "    # net = tflearn.lstm(net, n_units=30, return_seq=True)\n",
    "    net = tflearn.lstm(net, n_units=64, return_seq=False)\n",
    "    net = tflearn.fully_connected(net, 256, activation='linear')\n",
    "    net = tflearn.fully_connected(net, 64, activation='linear')\n",
    "    net = tflearn.fully_connected(net, 1, activation='linear')\n",
    "    \n",
    "    #Output Layer\n",
    "    net = tflearn.regression(net, optimizer='adam', loss='mean_square')\n",
    "    \n",
    "    # This model assumes that your network is named \"net\"  \n",
    "    #model = tflearn.DNN(net, clip_gradients=0.0, tensorboard_verbose=0)\n",
    "    model = tflearn.DNN(net, clip_gradients=5.0)\n",
    "    #model = tflearn.DNN(net)\n",
    "    return model"
   ]
  },
  {
   "cell_type": "code",
   "execution_count": 110,
   "metadata": {},
   "outputs": [],
   "source": [
    "model = build_model()"
   ]
  },
  {
   "cell_type": "code",
   "execution_count": 111,
   "metadata": {},
   "outputs": [
    {
     "name": "stdout",
     "output_type": "stream",
     "text": [
      "Training Step: 599  | total loss: \u001b[1m\u001b[32m0.00000\u001b[0m\u001b[0m | time: 0.036s\n",
      "| Adam | epoch: 200 | loss: 0.00000 - binary_acc: 0.0000 -- iter: 20/27\n",
      "Training Step: 600  | total loss: \u001b[1m\u001b[32m0.00000\u001b[0m\u001b[0m | time: 1.060s\n",
      "| Adam | epoch: 200 | loss: 0.00000 - binary_acc: 0.0000 | val_loss: 0.00000 - val_acc: 0.0000 -- iter: 27/27\n",
      "--\n"
     ]
    }
   ],
   "source": [
    "# Training\n",
    "model.fit(np_train_exp_X, np_train_exp_Y, n_epoch=200, validation_set=0.1, show_metric=True, batch_size=10, shuffle=True)\n",
    "#model.fit(train_features, train_next_point, n_epoch=1, validation_set=0.1, show_metric=True, batch_size=1)\n"
   ]
  },
  {
   "cell_type": "code",
   "execution_count": 112,
   "metadata": {},
   "outputs": [
    {
     "name": "stdout",
     "output_type": "stream",
     "text": [
      "Test accuracy:  [ 0.]\n"
     ]
    }
   ],
   "source": [
    "# Compare the labels that our model predicts with the actual labels\n",
    "\n",
    "# Find the indices of the most confident prediction for each item. That tells us the predicted digit for that sample.\n",
    "predictions = np.array(model.predict(np_test_exp_X))\n",
    "\n",
    "# Calculate the accuracy, which is the percentage of times the predicated labels matched the actual labels\n",
    "actual = np_test_exp_Y\n",
    "test_accuracy = np.mean(predictions == actual, axis=0)\n",
    "\n",
    "# Print out the result\n",
    "print(\"Test accuracy: \", test_accuracy)"
   ]
  },
  {
   "cell_type": "code",
   "execution_count": 113,
   "metadata": {},
   "outputs": [
    {
     "data": {
      "text/plain": [
       "array([[ 0.00080854],\n",
       "       [ 0.00081237],\n",
       "       [ 0.00081604],\n",
       "       [ 0.00081958],\n",
       "       [ 0.00082297],\n",
       "       [ 0.00082623],\n",
       "       [ 0.00082936],\n",
       "       [ 0.00083236],\n",
       "       [ 0.00083523],\n",
       "       [ 0.00083799]], dtype=float32)"
      ]
     },
     "execution_count": 113,
     "metadata": {},
     "output_type": "execute_result"
    }
   ],
   "source": [
    "predictions"
   ]
  },
  {
   "cell_type": "code",
   "execution_count": 114,
   "metadata": {},
   "outputs": [
    {
     "data": {
      "text/plain": [
       "array([[ 6. ],\n",
       "       [ 6.1],\n",
       "       [ 6.2],\n",
       "       [ 6.3],\n",
       "       [ 6.4],\n",
       "       [ 6.5],\n",
       "       [ 6.6],\n",
       "       [ 6.7],\n",
       "       [ 6.8],\n",
       "       [ 6.9]])"
      ]
     },
     "execution_count": 114,
     "metadata": {},
     "output_type": "execute_result"
    }
   ],
   "source": [
    "actual"
   ]
  },
  {
   "cell_type": "code",
   "execution_count": null,
   "metadata": {
    "collapsed": true
   },
   "outputs": [],
   "source": []
  }
 ],
 "metadata": {
  "kernelspec": {
   "display_name": "Python [default]",
   "language": "python",
   "name": "python3"
  },
  "language_info": {
   "codemirror_mode": {
    "name": "ipython",
    "version": 3
   },
   "file_extension": ".py",
   "mimetype": "text/x-python",
   "name": "python",
   "nbconvert_exporter": "python",
   "pygments_lexer": "ipython3",
   "version": "3.6.2"
  }
 },
 "nbformat": 4,
 "nbformat_minor": 2
}
