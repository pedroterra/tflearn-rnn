{
 "cells": [
  {
   "cell_type": "code",
   "execution_count": 1,
   "metadata": {
    "collapsed": true
   },
   "outputs": [],
   "source": [
    "#for referece\n",
    "\n",
    "# Fs = 8000\n",
    "# f = 5\n",
    "# sample = 8000\n",
    "# x = np.arange(sample)\n",
    "# y = np.sin(2 * np.pi * f * x / Fs)\n",
    "# plt.plot(x, y)\n",
    "# plt.xlabel('sample(n)')\n",
    "# plt.ylabel('voltage(V)')\n",
    "# plt.show()"
   ]
  },
  {
   "cell_type": "code",
   "execution_count": 2,
   "metadata": {
    "collapsed": true
   },
   "outputs": [],
   "source": [
    "# #create data points::\n",
    "\n",
    "# seq_len = 31\n",
    "# def create_time_series(seq_len):\n",
    "#   freq = (np.random.random()*0.5) + 0.1  # 0.1 to 0.6\n",
    "#   ampl = np.random.random() + 0.5  # 0.5 to 1.5\n",
    "#   x = np.sin(np.arange(0,seq_len) * freq) * ampl\n",
    "#   return x"
   ]
  },
  {
   "cell_type": "markdown",
   "metadata": {},
   "source": [
    "## tflearn rnn experiment\n",
    "use with tensorlab enviorment"
   ]
  },
  {
   "cell_type": "markdown",
   "metadata": {},
   "source": [
    "tasks:\n",
    "\n",
    "    [ ] create data set for training\n",
    "        [ ] sin\n",
    "        [ ] sales tpv day\n",
    "        [ ] 30 numerical sequences with sequntial teste\n",
    "        [ ] 50 numerical sequences with shuffle test\n",
    "    \n",
    "    [X] plot sin\n",
    "\n",
    "    "
   ]
  },
  {
   "cell_type": "code",
   "execution_count": 3,
   "metadata": {
    "collapsed": true
   },
   "outputs": [],
   "source": [
    "import numpy as np\n",
    "import tensorflow as tf\n",
    "import tflearn\n",
    "import matplotlib.pyplot as plt\n",
    "from tflearn.data_utils import shuffle\n",
    "\n",
    "%matplotlib inline"
   ]
  },
  {
   "cell_type": "code",
   "execution_count": null,
   "metadata": {
    "collapsed": true
   },
   "outputs": [],
   "source": []
  },
  {
   "cell_type": "code",
   "execution_count": 4,
   "metadata": {},
   "outputs": [
    {
     "name": "stdout",
     "output_type": "stream",
     "text": [
      "[30 31 32 33 34 35 36 37 38 39 40 41 42 43 44 45 46 47 48 49 50 51 52 53 54\n",
      " 55 56 57 58 59]\n"
     ]
    }
   ],
   "source": [
    "#create trainX and train Y\n",
    "\n",
    "np_train_exp_X = np.array([[0, 1, 2, 3, 4, 5, 6, 7, 8, 9, 10, 11, 12, 13, 14, 15, 16, 17, 18, 19, 20, 21, 22, 23, 24, 25, 26, 27, 28, 29], [1, 2, 3, 4, 5, 6, 7, 8, 9, 10, 11, 12, 13, 14, 15, 16, 17, 18, 19, 20, 21, 22, 23, 24, 25, 26, 27, 28, 29, 30], [2, 3, 4, 5, 6, 7, 8, 9, 10, 11, 12, 13, 14, 15, 16, 17, 18, 19, 20, 21, 22, 23, 24, 25, 26, 27, 28, 29, 30, 31], [3, 4, 5, 6, 7, 8, 9, 10, 11, 12, 13, 14, 15, 16, 17, 18, 19, 20, 21, 22, 23, 24, 25, 26, 27, 28, 29, 30, 31, 32], [4, 5, 6, 7, 8, 9, 10, 11, 12, 13, 14, 15, 16, 17, 18, 19, 20, 21, 22, 23, 24, 25, 26, 27, 28, 29, 30, 31, 32, 33], [5, 6, 7, 8, 9, 10, 11, 12, 13, 14, 15, 16, 17, 18, 19, 20, 21, 22, 23, 24, 25, 26, 27, 28, 29, 30, 31, 32, 33, 34], [6, 7, 8, 9, 10, 11, 12, 13, 14, 15, 16, 17, 18, 19, 20, 21, 22, 23, 24, 25, 26, 27, 28, 29, 30, 31, 32, 33, 34, 35], [7, 8, 9, 10, 11, 12, 13, 14, 15, 16, 17, 18, 19, 20, 21, 22, 23, 24, 25, 26, 27, 28, 29, 30, 31, 32, 33, 34, 35, 36], [8, 9, 10, 11, 12, 13, 14, 15, 16, 17, 18, 19, 20, 21, 22, 23, 24, 25, 26, 27, 28, 29, 30, 31, 32, 33, 34, 35, 36, 37], [9, 10, 11, 12, 13, 14, 15, 16, 17, 18, 19, 20, 21, 22, 23, 24, 25, 26, 27, 28, 29, 30, 31, 32, 33, 34, 35, 36, 37, 38], [10, 11, 12, 13, 14, 15, 16, 17, 18, 19, 20, 21, 22, 23, 24, 25, 26, 27, 28, 29, 30, 31, 32, 33, 34, 35, 36, 37, 38, 39], [11, 12, 13, 14, 15, 16, 17, 18, 19, 20, 21, 22, 23, 24, 25, 26, 27, 28, 29, 30, 31, 32, 33, 34, 35, 36, 37, 38, 39, 40], [12, 13, 14, 15, 16, 17, 18, 19, 20, 21, 22, 23, 24, 25, 26, 27, 28, 29, 30, 31, 32, 33, 34, 35, 36, 37, 38, 39, 40, 41], [13, 14, 15, 16, 17, 18, 19, 20, 21, 22, 23, 24, 25, 26, 27, 28, 29, 30, 31, 32, 33, 34, 35, 36, 37, 38, 39, 40, 41, 42], [14, 15, 16, 17, 18, 19, 20, 21, 22, 23, 24, 25, 26, 27, 28, 29, 30, 31, 32, 33, 34, 35, 36, 37, 38, 39, 40, 41, 42, 43], [15, 16, 17, 18, 19, 20, 21, 22, 23, 24, 25, 26, 27, 28, 29, 30, 31, 32, 33, 34, 35, 36, 37, 38, 39, 40, 41, 42, 43, 44], [16, 17, 18, 19, 20, 21, 22, 23, 24, 25, 26, 27, 28, 29, 30, 31, 32, 33, 34, 35, 36, 37, 38, 39, 40, 41, 42, 43, 44, 45], [17, 18, 19, 20, 21, 22, 23, 24, 25, 26, 27, 28, 29, 30, 31, 32, 33, 34, 35, 36, 37, 38, 39, 40, 41, 42, 43, 44, 45, 46], [18, 19, 20, 21, 22, 23, 24, 25, 26, 27, 28, 29, 30, 31, 32, 33, 34, 35, 36, 37, 38, 39, 40, 41, 42, 43, 44, 45, 46, 47], [19, 20, 21, 22, 23, 24, 25, 26, 27, 28, 29, 30, 31, 32, 33, 34, 35, 36, 37, 38, 39, 40, 41, 42, 43, 44, 45, 46, 47, 48], [20, 21, 22, 23, 24, 25, 26, 27, 28, 29, 30, 31, 32, 33, 34, 35, 36, 37, 38, 39, 40, 41, 42, 43, 44, 45, 46, 47, 48, 49], [21, 22, 23, 24, 25, 26, 27, 28, 29, 30, 31, 32, 33, 34, 35, 36, 37, 38, 39, 40, 41, 42, 43, 44, 45, 46, 47, 48, 49, 50], [22, 23, 24, 25, 26, 27, 28, 29, 30, 31, 32, 33, 34, 35, 36, 37, 38, 39, 40, 41, 42, 43, 44, 45, 46, 47, 48, 49, 50, 51], [23, 24, 25, 26, 27, 28, 29, 30, 31, 32, 33, 34, 35, 36, 37, 38, 39, 40, 41, 42, 43, 44, 45, 46, 47, 48, 49, 50, 51, 52], [24, 25, 26, 27, 28, 29, 30, 31, 32, 33, 34, 35, 36, 37, 38, 39, 40, 41, 42, 43, 44, 45, 46, 47, 48, 49, 50, 51, 52, 53], [25, 26, 27, 28, 29, 30, 31, 32, 33, 34, 35, 36, 37, 38, 39, 40, 41, 42, 43, 44, 45, 46, 47, 48, 49, 50, 51, 52, 53, 54], [26, 27, 28, 29, 30, 31, 32, 33, 34, 35, 36, 37, 38, 39, 40, 41, 42, 43, 44, 45, 46, 47, 48, 49, 50, 51, 52, 53, 54, 55], [27, 28, 29, 30, 31, 32, 33, 34, 35, 36, 37, 38, 39, 40, 41, 42, 43, 44, 45, 46, 47, 48, 49, 50, 51, 52, 53, 54, 55, 56], [28, 29, 30, 31, 32, 33, 34, 35, 36, 37, 38, 39, 40, 41, 42, 43, 44, 45, 46, 47, 48, 49, 50, 51, 52, 53, 54, 55, 56, 57], [29, 30, 31, 32, 33, 34, 35, 36, 37, 38, 39, 40, 41, 42, 43, 44, 45, 46, 47, 48, 49, 50, 51, 52, 53, 54, 55, 56, 57, 58]], np.int32)\n",
    "#print(np_train_exp_X)\n",
    "np_train_exp_Y = np.arange(30, 60)\n",
    "print(np_train_exp_Y)"
   ]
  },
  {
   "cell_type": "code",
   "execution_count": 5,
   "metadata": {},
   "outputs": [
    {
     "data": {
      "text/plain": [
       "(30, 1)"
      ]
     },
     "execution_count": 5,
     "metadata": {},
     "output_type": "execute_result"
    }
   ],
   "source": [
    "#reshape trainX\n",
    "np_train_exp_X = np.reshape(np_train_exp_X, (30, 30,1))/10\n",
    "\n",
    "#reshape trainY\n",
    "np_train_exp_Y = np.reshape(np_train_exp_Y, (30,1))/10\n",
    "np_train_exp_Y.shape\n",
    "#np_train_exp_X.shape"
   ]
  },
  {
   "cell_type": "code",
   "execution_count": 6,
   "metadata": {
    "collapsed": true,
    "scrolled": false
   },
   "outputs": [],
   "source": [
    "#create TestX and TestY\n",
    "\n",
    "np_test_exp_X = np.array([[30, 31, 32, 33, 34, 35, 36, 37, 38, 39, 40, 41, 42, 43, 44, 45, 46, 47, 48, 49, 50, 51, 52, 53, 54, 55, 56, 57, 58, 59], [31, 32, 33, 34, 35, 36, 37, 38, 39, 40, 41, 42, 43, 44, 45, 46, 47, 48, 49, 50, 51, 52, 53, 54, 55, 56, 57, 58, 59, 60], [32, 33, 34, 35, 36, 37, 38, 39, 40, 41, 42, 43, 44, 45, 46, 47, 48, 49, 50, 51, 52, 53, 54, 55, 56, 57, 58, 59, 60, 61], [33, 34, 35, 36, 37, 38, 39, 40, 41, 42, 43, 44, 45, 46, 47, 48, 49, 50, 51, 52, 53, 54, 55, 56, 57, 58, 59, 60, 61, 62], [34, 35, 36, 37, 38, 39, 40, 41, 42, 43, 44, 45, 46, 47, 48, 49, 50, 51, 52, 53, 54, 55, 56, 57, 58, 59, 60, 61, 62, 63], [35, 36, 37, 38, 39, 40, 41, 42, 43, 44, 45, 46, 47, 48, 49, 50, 51, 52, 53, 54, 55, 56, 57, 58, 59, 60, 61, 62, 63, 64], [36, 37, 38, 39, 40, 41, 42, 43, 44, 45, 46, 47, 48, 49, 50, 51, 52, 53, 54, 55, 56, 57, 58, 59, 60, 61, 62, 63, 64, 65], [37, 38, 39, 40, 41, 42, 43, 44, 45, 46, 47, 48, 49, 50, 51, 52, 53, 54, 55, 56, 57, 58, 59, 60, 61, 62, 63, 64, 65, 66], [38, 39, 40, 41, 42, 43, 44, 45, 46, 47, 48, 49, 50, 51, 52, 53, 54, 55, 56, 57, 58, 59, 60, 61, 62, 63, 64, 65, 66, 67], [39, 40, 41, 42, 43, 44, 45, 46, 47, 48, 49, 50, 51, 52, 53, 54, 55, 56, 57, 58, 59, 60, 61, 62, 63, 64, 65, 66, 67, 68]], np.int32) \n",
    "np_test_exp_X = np.reshape(np_test_exp_X, (10, 30,1))/10\n",
    "\n",
    "#print(np_test_exp_X)\n",
    "np_test_exp_Y = np.arange(60,70)\n",
    "np_test_exp_Y = np.reshape(np_test_exp_Y, (10,1))/10\n"
   ]
  },
  {
   "cell_type": "code",
   "execution_count": 7,
   "metadata": {
    "collapsed": true
   },
   "outputs": [],
   "source": [
    "#np_test_exp_X"
   ]
  },
  {
   "cell_type": "code",
   "execution_count": 8,
   "metadata": {
    "collapsed": true
   },
   "outputs": [],
   "source": [
    "# x = np.array ([0,]*n)\n",
    "# x = np.array ([])"
   ]
  },
  {
   "cell_type": "code",
   "execution_count": 9,
   "metadata": {
    "collapsed": true
   },
   "outputs": [],
   "source": [
    "# Define the neural network\n",
    "def build_model():\n",
    "    # This resets all parameters and variables, leave this here\n",
    "    tf.reset_default_graph()\n",
    "    \n",
    "    #### Your code ####\n",
    "    # Include the input layer, hidden layer(s), and set how you want to train the model\n",
    "    \n",
    "    # input layer\n",
    "    \n",
    "    net = tflearn.input_data(shape=[None, 30,1])\n",
    "    #net = tflearn.embedding(net, input_dim=1, output_dim=60)\n",
    "    # net = tflearn.lstm(net, n_units=30, return_seq=True)\n",
    "    net = tflearn.lstm(net, n_units=64, return_seq=False)\n",
    "    net = tflearn.fully_connected(net, 256, activation='linear')\n",
    "    net = tflearn.fully_connected(net, 128, activation='linear')\n",
    "    net = tflearn.fully_connected(net, 64, activation='linear')\n",
    "    net = tflearn.fully_connected(net, 1, activation='linear')\n",
    "    \n",
    "    #Output Layer\n",
    "    net = tflearn.regression(net, optimizer='adam', loss='mean_square')\n",
    "    \n",
    "    # This model assumes that your network is named \"net\"  \n",
    "    #model = tflearn.DNN(net, clip_gradients=0.0, tensorboard_verbose=0)\n",
    "    model = tflearn.DNN(net, clip_gradients=5.0)\n",
    "    #model = tflearn.DNN(net)\n",
    "    return model"
   ]
  },
  {
   "cell_type": "code",
   "execution_count": 10,
   "metadata": {
    "collapsed": true
   },
   "outputs": [],
   "source": [
    "model = build_model()"
   ]
  },
  {
   "cell_type": "code",
   "execution_count": 11,
   "metadata": {},
   "outputs": [
    {
     "name": "stdout",
     "output_type": "stream",
     "text": [
      "Training Step: 149  | total loss: \u001b[1m\u001b[32m0.00361\u001b[0m\u001b[0m | time: 0.084s\n",
      "| Adam | epoch: 050 | loss: 0.00361 - binary_acc: 0.0000 -- iter: 20/27\n",
      "Training Step: 150  | total loss: \u001b[1m\u001b[32m0.00328\u001b[0m\u001b[0m | time: 1.147s\n",
      "| Adam | epoch: 050 | loss: 0.00328 - binary_acc: 0.0000 | val_loss: 0.00061 - val_acc: 0.0000 -- iter: 27/27\n",
      "--\n"
     ]
    }
   ],
   "source": [
    "# Training\n",
    "model.fit(np_train_exp_X, np_train_exp_Y, n_epoch=50, validation_set=0.1, show_metric=True, batch_size=10, shuffle=True)\n",
    "#model.fit(train_features, train_next_point, n_epoch=1, validation_set=0.1, show_metric=True, batch_size=1)\n"
   ]
  },
  {
   "cell_type": "code",
   "execution_count": 12,
   "metadata": {},
   "outputs": [
    {
     "name": "stdout",
     "output_type": "stream",
     "text": [
      "Test accuracy:  [ 0.08129144]\n"
     ]
    }
   ],
   "source": [
    "# Compare the labels that our model predicts with the actual labels\n",
    "\n",
    "# Find the indices of the most confident prediction for each item. That tells us the predicted digit for that sample.\n",
    "predictions = np.array(model.predict(np_test_exp_X))\n",
    "\n",
    "# Calculate the accuracy, which is the percentage of times the predicated labels matched the actual labels\n",
    "actual = np_test_exp_Y\n",
    "test_accuracy = np.mean(np.abs(predictions - actual), axis=0)\n",
    "\n",
    "# Print out the result\n",
    "print(\"Test accuracy: \", test_accuracy)"
   ]
  },
  {
   "cell_type": "code",
   "execution_count": 13,
   "metadata": {},
   "outputs": [
    {
     "data": {
      "text/plain": [
       "array([[ 5.9849    ],\n",
       "       [ 6.07598686],\n",
       "       [ 6.16508055],\n",
       "       [ 6.25205851],\n",
       "       [ 6.33681297],\n",
       "       [ 6.41925478],\n",
       "       [ 6.49931002],\n",
       "       [ 6.57692528],\n",
       "       [ 6.65206194],\n",
       "       [ 6.72469473]], dtype=float32)"
      ]
     },
     "execution_count": 13,
     "metadata": {},
     "output_type": "execute_result"
    }
   ],
   "source": [
    "predictions"
   ]
  },
  {
   "cell_type": "code",
   "execution_count": 14,
   "metadata": {},
   "outputs": [
    {
     "data": {
      "text/plain": [
       "array([[ 6. ],\n",
       "       [ 6.1],\n",
       "       [ 6.2],\n",
       "       [ 6.3],\n",
       "       [ 6.4],\n",
       "       [ 6.5],\n",
       "       [ 6.6],\n",
       "       [ 6.7],\n",
       "       [ 6.8],\n",
       "       [ 6.9]])"
      ]
     },
     "execution_count": 14,
     "metadata": {},
     "output_type": "execute_result"
    }
   ],
   "source": [
    "actual"
   ]
  },
  {
   "cell_type": "code",
   "execution_count": null,
   "metadata": {
    "collapsed": true
   },
   "outputs": [],
   "source": []
  },
  {
   "cell_type": "code",
   "execution_count": null,
   "metadata": {
    "collapsed": true
   },
   "outputs": [],
   "source": []
  },
  {
   "cell_type": "code",
   "execution_count": null,
   "metadata": {
    "collapsed": true
   },
   "outputs": [],
   "source": [
    "#experiments\n"
   ]
  },
  {
   "cell_type": "code",
   "execution_count": 11,
   "metadata": {},
   "outputs": [
    {
     "data": {
      "text/plain": [
       "array([ 0,  1,  2,  3,  4,  5,  6,  7,  8,  9, 10, 11, 12, 13, 14, 15, 16,\n",
       "       17, 18, 19, 20, 21, 22, 23, 24, 25, 26, 27, 28, 29, 30, 31, 32, 33,\n",
       "       34, 35, 36, 37, 38, 39, 40, 41, 42, 43, 44, 45, 46, 47, 48, 49, 50,\n",
       "       51, 52, 53, 54, 55, 56, 57, 58, 59, 60, 61, 62, 63, 64, 65, 66, 67,\n",
       "       68, 69, 70, 71, 72, 73, 74, 75, 76, 77, 78, 79, 80, 81, 82, 83, 84,\n",
       "       85, 86, 87, 88, 89, 90, 91, 92, 93, 94, 95, 96, 97, 98, 99])"
      ]
     },
     "execution_count": 11,
     "metadata": {},
     "output_type": "execute_result"
    }
   ],
   "source": [
    "seq_data = np.arange(0, 100)\n",
    "seq_data"
   ]
  },
  {
   "cell_type": "code",
   "execution_count": 43,
   "metadata": {
    "collapsed": true
   },
   "outputs": [],
   "source": [
    "seq_len = 50\n",
    "ini = 0"
   ]
  },
  {
   "cell_type": "code",
   "execution_count": 44,
   "metadata": {},
   "outputs": [],
   "source": [
    "\n",
    "component = np.array(seq_data[ini : seq_len])\n",
    "\n",
    "for i in range(49):\n",
    "    ini = ini +1\n",
    "    seq_len = seq_len + 1\n",
    "    component = np.append( component, np.array(seq_data[ini : seq_len]))"
   ]
  },
  {
   "cell_type": "code",
   "execution_count": 45,
   "metadata": {},
   "outputs": [
    {
     "data": {
      "text/plain": [
       "array([ 0,  1,  2, ..., 96, 97, 98])"
      ]
     },
     "execution_count": 45,
     "metadata": {},
     "output_type": "execute_result"
    }
   ],
   "source": [
    "component"
   ]
  },
  {
   "cell_type": "code",
   "execution_count": 46,
   "metadata": {},
   "outputs": [],
   "source": [
    "# for i in component:\n",
    "#     print (i)"
   ]
  },
  {
   "cell_type": "code",
   "execution_count": 128,
   "metadata": {},
   "outputs": [
    {
     "data": {
      "text/plain": [
       "array([[42, 43, 44, ..., 89, 90, 91],\n",
       "       [27, 28, 29, ..., 74, 75, 76],\n",
       "       [ 6,  7,  8, ..., 53, 54, 55],\n",
       "       ..., \n",
       "       [24, 25, 26, ..., 71, 72, 73],\n",
       "       [44, 45, 46, ..., 91, 92, 93],\n",
       "       [47, 48, 49, ..., 94, 95, 96]])"
      ]
     },
     "execution_count": 128,
     "metadata": {},
     "output_type": "execute_result"
    }
   ],
   "source": [
    "component = np.reshape(component, (50,50))\n",
    "shuffle = component\n",
    "np.random.shuffle(shuffle)\n",
    "shuffle"
   ]
  },
  {
   "cell_type": "code",
   "execution_count": 129,
   "metadata": {
    "collapsed": true
   },
   "outputs": [],
   "source": [
    "test_fraction = 0.9\n",
    "records = len(component)\n",
    "\n",
    "train_X, test_X = shuffle[:int(records*test_fraction)], shuffle[int(records*test_fraction):]"
   ]
  },
  {
   "cell_type": "code",
   "execution_count": 130,
   "metadata": {},
   "outputs": [],
   "source": [
    "#train_X"
   ]
  },
  {
   "cell_type": "code",
   "execution_count": 131,
   "metadata": {},
   "outputs": [],
   "source": [
    "#test_X"
   ]
  },
  {
   "cell_type": "code",
   "execution_count": 132,
   "metadata": {},
   "outputs": [],
   "source": [
    "train_Y = np.array(train_X[0][49:]+1)\n",
    "for i in train_X[1:]:\n",
    "    train_Y = np.append( train_Y, i[49:] +1)"
   ]
  },
  {
   "cell_type": "code",
   "execution_count": 133,
   "metadata": {},
   "outputs": [],
   "source": [
    "test_Y = np.array(test_X[0][49:]+1)\n",
    "for i in test_X[1:]:\n",
    "    test_Y = np.append( test_Y, i[49:] +1)"
   ]
  },
  {
   "cell_type": "code",
   "execution_count": 134,
   "metadata": {
    "collapsed": true
   },
   "outputs": [],
   "source": [
    "train_X = np.reshape(train_X, (45, 50,1))/10\n",
    "train_Y = np.reshape(train_Y, (45,1))/10\n",
    "test_X = np.reshape(test_X, (5, 50,1))/10\n",
    "test_Y = np.reshape(test_Y, (5,1))/10"
   ]
  },
  {
   "cell_type": "code",
   "execution_count": 135,
   "metadata": {
    "collapsed": true
   },
   "outputs": [],
   "source": [
    "# Define the neural network\n",
    "def build_model2():\n",
    "    # This resets all parameters and variables, leave this here\n",
    "    tf.reset_default_graph()\n",
    "    \n",
    "    # input layer\n",
    "    net = tflearn.input_data(shape=[None, 50,1])\n",
    "    \n",
    "    # hidden layers\n",
    "    # net = tflearn.lstm(net, n_units=30, return_seq=True)\n",
    "    net = tflearn.lstm(net, n_units=64, return_seq=False)\n",
    "    net = tflearn.fully_connected(net, 256, activation='linear')\n",
    "    net = tflearn.fully_connected(net, 128, activation='linear')\n",
    "    #net = tflearn.fully_connected(net, 64, activation='linear')\n",
    "    net = tflearn.fully_connected(net, 1, activation='linear')\n",
    "    \n",
    "    #Output Layer\n",
    "    net = tflearn.regression(net, optimizer='adam', loss='mean_square')\n",
    "    \n",
    "    # This model assumes that your network is named \"net\"  \n",
    "    #model = tflearn.DNN(net, clip_gradients=0.0, tensorboard_verbose=0)\n",
    "    model = tflearn.DNN(net, clip_gradients=5.0)\n",
    "    #model = tflearn.DNN(net)\n",
    "    return model"
   ]
  },
  {
   "cell_type": "code",
   "execution_count": 123,
   "metadata": {
    "collapsed": true
   },
   "outputs": [],
   "source": [
    "model2 = build_model2()"
   ]
  },
  {
   "cell_type": "code",
   "execution_count": 124,
   "metadata": {},
   "outputs": [
    {
     "name": "stdout",
     "output_type": "stream",
     "text": [
      "Training Step: 199  | total loss: \u001b[1m\u001b[32m0.00064\u001b[0m\u001b[0m | time: 0.079s\n",
      "| Adam | epoch: 050 | loss: 0.00064 - binary_acc: 0.0000 -- iter: 30/40\n",
      "Training Step: 200  | total loss: \u001b[1m\u001b[32m0.00061\u001b[0m\u001b[0m | time: 1.118s\n",
      "| Adam | epoch: 050 | loss: 0.00061 - binary_acc: 0.0000 | val_loss: 0.00005 - val_acc: 0.0000 -- iter: 40/40\n",
      "--\n"
     ]
    }
   ],
   "source": [
    "# Training\n",
    "model2.fit(train_X, train_Y, n_epoch=50, validation_set=0.1, show_metric=True, batch_size=10, shuffle=True)\n",
    "#model.fit(train_features, train_next_point, n_epoch=1, validation_set=0.1, show_metric=True, batch_size=1)"
   ]
  },
  {
   "cell_type": "code",
   "execution_count": 125,
   "metadata": {},
   "outputs": [
    {
     "name": "stdout",
     "output_type": "stream",
     "text": [
      "Test accuracy:  [ 0.00796717]\n"
     ]
    }
   ],
   "source": [
    "# Compare the labels that our model predicts with the actual labels\n",
    "\n",
    "# Find the indices of the most confident prediction for each item. That tells us the predicted digit for that sample.\n",
    "predictions = np.array(model2.predict(test_X))\n",
    "\n",
    "# Calculate the accuracy, which is the percentage of times the predicated labels matched the actual labels\n",
    "actual = test_Y\n",
    "test_accuracy = np.mean(np.abs(predictions - actual), axis=0)\n",
    "\n",
    "# Print out the result\n",
    "print(\"Test accuracy: \", test_accuracy)"
   ]
  },
  {
   "cell_type": "code",
   "execution_count": 126,
   "metadata": {},
   "outputs": [
    {
     "data": {
      "text/plain": [
       "array([[ 8.61235714],\n",
       "       [ 9.69603252],\n",
       "       [ 9.31138134],\n",
       "       [ 5.89177322],\n",
       "       [ 7.8039031 ]], dtype=float32)"
      ]
     },
     "execution_count": 126,
     "metadata": {},
     "output_type": "execute_result"
    }
   ],
   "source": [
    "predictions"
   ]
  },
  {
   "cell_type": "code",
   "execution_count": 121,
   "metadata": {},
   "outputs": [
    {
     "data": {
      "text/plain": [
       "array([[ 8.6],\n",
       "       [ 9.7],\n",
       "       [ 9.3],\n",
       "       [ 5.9],\n",
       "       [ 7.8]])"
      ]
     },
     "execution_count": 121,
     "metadata": {},
     "output_type": "execute_result"
    }
   ],
   "source": [
    "actual"
   ]
  },
  {
   "cell_type": "code",
   "execution_count": null,
   "metadata": {
    "collapsed": true
   },
   "outputs": [],
   "source": []
  }
 ],
 "metadata": {
  "kernelspec": {
   "display_name": "Python [default]",
   "language": "python",
   "name": "python3"
  },
  "language_info": {
   "codemirror_mode": {
    "name": "ipython",
    "version": 3
   },
   "file_extension": ".py",
   "mimetype": "text/x-python",
   "name": "python",
   "nbconvert_exporter": "python",
   "pygments_lexer": "ipython3",
   "version": "3.6.2"
  }
 },
 "nbformat": 4,
 "nbformat_minor": 2
}
